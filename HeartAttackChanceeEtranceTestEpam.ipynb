{
 "cells": [
  {
   "cell_type": "markdown",
   "metadata": {},
   "source": [
    "# Тестовое задание на тренинг в компанию EPAM Systems\n",
    "\n",
    "\n",
    "\n",
    "# Health care: Data set on Heart attack possibility"
   ]
  },
  {
   "cell_type": "markdown",
   "metadata": {},
   "source": [
    "![heartache_picture](https://www.zdorovieinfo.ru/wp-content/uploads/2019/02/shutterstock_1131956183-1.jpg)"
   ]
  },
  {
   "cell_type": "markdown",
   "metadata": {},
   "source": [
    "# В презентации необходимо описать:\n",
    "\n",
    "- Какая бизнес-задача решается и к какой задаче ML она сведена.\n",
    "\n",
    "- Результаты разведывательного анализа данных (EDA): обнаруженные особенности и какие-то замечания по данным.\n",
    "\n",
    "- Пояснить, какие новые признаки созданы и как осуществлялся отбор признаков для модели.\n",
    "\n",
    "- Какие метрики качества модели выбраны и почему.\n",
    "\n",
    "- Какая модель машинного обучения применена и почему выбрана именно она. Можно использовать несколько моделей и сравнить их между собой.\n",
    "\n",
    "- Как предложенное решение может быть использовано в реальных условиях. Интерпретируемость прогнозов модели.\n",
    "\n",
    "- Предложения по улучшению предложенного решения \"на будущее\""
   ]
  },
  {
   "cell_type": "markdown",
   "metadata": {},
   "source": [
    "# Датасет:\n",
    "https://www.kaggle.com/nareshbhat/health-care-data-set-on-heart-attack-possibility"
   ]
  },
  {
   "cell_type": "markdown",
   "metadata": {},
   "source": [
    "# Оглавление тетрадки\n",
    "1. [Постановка задачи](#introduction)\n",
    "2. [Результаты разведывательного анализа данных (EDA)](#eda)\n",
    "3. [Выбор метрик качества](#metrics)\n",
    "4. [Предсказывающие модели](#models)\n",
    "5. [Интерпретация результата](#result)\n",
    "5. [Предложения по улучшению](#improvement)"
   ]
  },
  {
   "cell_type": "markdown",
   "metadata": {},
   "source": [
    "## Постановка задачи <a name=\"introduction\"></a>\n",
    "\n",
    "About data set  \n",
    "This database contains 76 attributes, but all published experiments refer to using a subset of 14 of them. In particular, the Cleveland database is the only one that has been used by ML researchers to\n",
    "this date.The \"target\" field refers to the presence of heart disease in the patient. It is integer valued 0 = no/less chance of heart attack and 1 = more chance of heart attack\n",
    "\n",
    "Attribute Information  \n",
    "1. **age**  \n",
    "2. **sex**: (1-male, 0-female)  \n",
    "3. **cp**: chest pain type (4 values)  \n",
    "4. **trestbps**: resting blood pressure  \n",
    "5. **chol**: serum cholestoral in mg/dl  \n",
    "6. **fbs**: fasting blood sugar > 120 mg/dl  \n",
    "7. **restecg**: resting electrocardiographic results (values 0,1,2)  \n",
    "8. **thalach**: maximum heart rate achieved  \n",
    "9. **exang**: exercise induced angina  \n",
    "10. **oldpeak**: ST depression induced by exercise relative to rest  \n",
    "11. **slope**: the slope of the peak exercise ST segment  \n",
    "12. **ca**: number of major vessels (0-3) colored by flourosopy  \n",
    "13. **thal**: 0 = normal; 1 = fixed defect; 2 = reversable defect  \n",
    "14. **target**: 0= less chance of heart attack 1= more chance of heart attack "
   ]
  },
  {
   "cell_type": "markdown",
   "metadata": {},
   "source": [
    "## Результаты разведывательного анализа данных (EDA) <a name=\"eda\"></a>"
   ]
  },
  {
   "cell_type": "code",
   "execution_count": 1,
   "metadata": {},
   "outputs": [],
   "source": [
    "import numpy as np\n",
    "import pandas as pd\n",
    "\n",
    "import matplotlib.pyplot as plt\n",
    "import seaborn as sns\n",
    "#from pylab import rcParams\n",
    "\n",
    "%matplotlib inline\n",
    "#sns.set_style(\"ticks\")\n",
    "#rcParams['figure.figsize'] = 12, 6"
   ]
  },
  {
   "cell_type": "code",
   "execution_count": 2,
   "metadata": {},
   "outputs": [],
   "source": [
    "df=pd.read_csv('data/heart.csv')"
   ]
  },
  {
   "cell_type": "code",
   "execution_count": 3,
   "metadata": {},
   "outputs": [
    {
     "data": {
      "text/html": [
       "<div>\n",
       "<style scoped>\n",
       "    .dataframe tbody tr th:only-of-type {\n",
       "        vertical-align: middle;\n",
       "    }\n",
       "\n",
       "    .dataframe tbody tr th {\n",
       "        vertical-align: top;\n",
       "    }\n",
       "\n",
       "    .dataframe thead th {\n",
       "        text-align: right;\n",
       "    }\n",
       "</style>\n",
       "<table border=\"1\" class=\"dataframe\">\n",
       "  <thead>\n",
       "    <tr style=\"text-align: right;\">\n",
       "      <th></th>\n",
       "      <th>age</th>\n",
       "      <th>sex</th>\n",
       "      <th>cp</th>\n",
       "      <th>trestbps</th>\n",
       "      <th>chol</th>\n",
       "      <th>fbs</th>\n",
       "      <th>restecg</th>\n",
       "      <th>thalach</th>\n",
       "      <th>exang</th>\n",
       "      <th>oldpeak</th>\n",
       "      <th>slope</th>\n",
       "      <th>ca</th>\n",
       "      <th>thal</th>\n",
       "      <th>target</th>\n",
       "    </tr>\n",
       "  </thead>\n",
       "  <tbody>\n",
       "    <tr>\n",
       "      <th>262</th>\n",
       "      <td>53</td>\n",
       "      <td>1</td>\n",
       "      <td>0</td>\n",
       "      <td>123</td>\n",
       "      <td>282</td>\n",
       "      <td>0</td>\n",
       "      <td>1</td>\n",
       "      <td>95</td>\n",
       "      <td>1</td>\n",
       "      <td>2.0</td>\n",
       "      <td>1</td>\n",
       "      <td>2</td>\n",
       "      <td>3</td>\n",
       "      <td>0</td>\n",
       "    </tr>\n",
       "    <tr>\n",
       "      <th>253</th>\n",
       "      <td>67</td>\n",
       "      <td>1</td>\n",
       "      <td>0</td>\n",
       "      <td>100</td>\n",
       "      <td>299</td>\n",
       "      <td>0</td>\n",
       "      <td>0</td>\n",
       "      <td>125</td>\n",
       "      <td>1</td>\n",
       "      <td>0.9</td>\n",
       "      <td>1</td>\n",
       "      <td>2</td>\n",
       "      <td>2</td>\n",
       "      <td>0</td>\n",
       "    </tr>\n",
       "    <tr>\n",
       "      <th>69</th>\n",
       "      <td>62</td>\n",
       "      <td>0</td>\n",
       "      <td>0</td>\n",
       "      <td>124</td>\n",
       "      <td>209</td>\n",
       "      <td>0</td>\n",
       "      <td>1</td>\n",
       "      <td>163</td>\n",
       "      <td>0</td>\n",
       "      <td>0.0</td>\n",
       "      <td>2</td>\n",
       "      <td>0</td>\n",
       "      <td>2</td>\n",
       "      <td>1</td>\n",
       "    </tr>\n",
       "    <tr>\n",
       "      <th>275</th>\n",
       "      <td>52</td>\n",
       "      <td>1</td>\n",
       "      <td>0</td>\n",
       "      <td>125</td>\n",
       "      <td>212</td>\n",
       "      <td>0</td>\n",
       "      <td>1</td>\n",
       "      <td>168</td>\n",
       "      <td>0</td>\n",
       "      <td>1.0</td>\n",
       "      <td>2</td>\n",
       "      <td>2</td>\n",
       "      <td>3</td>\n",
       "      <td>0</td>\n",
       "    </tr>\n",
       "    <tr>\n",
       "      <th>269</th>\n",
       "      <td>56</td>\n",
       "      <td>1</td>\n",
       "      <td>0</td>\n",
       "      <td>130</td>\n",
       "      <td>283</td>\n",
       "      <td>1</td>\n",
       "      <td>0</td>\n",
       "      <td>103</td>\n",
       "      <td>1</td>\n",
       "      <td>1.6</td>\n",
       "      <td>0</td>\n",
       "      <td>0</td>\n",
       "      <td>3</td>\n",
       "      <td>0</td>\n",
       "    </tr>\n",
       "  </tbody>\n",
       "</table>\n",
       "</div>"
      ],
      "text/plain": [
       "     age  sex  cp  trestbps  chol  fbs  restecg  thalach  exang  oldpeak  \\\n",
       "262   53    1   0       123   282    0        1       95      1      2.0   \n",
       "253   67    1   0       100   299    0        0      125      1      0.9   \n",
       "69    62    0   0       124   209    0        1      163      0      0.0   \n",
       "275   52    1   0       125   212    0        1      168      0      1.0   \n",
       "269   56    1   0       130   283    1        0      103      1      1.6   \n",
       "\n",
       "     slope  ca  thal  target  \n",
       "262      1   2     3       0  \n",
       "253      1   2     2       0  \n",
       "69       2   0     2       1  \n",
       "275      2   2     3       0  \n",
       "269      0   0     3       0  "
      ]
     },
     "execution_count": 3,
     "metadata": {},
     "output_type": "execute_result"
    }
   ],
   "source": [
    "df.sample(5)"
   ]
  },
  {
   "cell_type": "code",
   "execution_count": 4,
   "metadata": {
    "scrolled": true
   },
   "outputs": [
    {
     "name": "stdout",
     "output_type": "stream",
     "text": [
      "<class 'pandas.core.frame.DataFrame'>\n",
      "RangeIndex: 303 entries, 0 to 302\n",
      "Data columns (total 14 columns):\n",
      "age         303 non-null int64\n",
      "sex         303 non-null int64\n",
      "cp          303 non-null int64\n",
      "trestbps    303 non-null int64\n",
      "chol        303 non-null int64\n",
      "fbs         303 non-null int64\n",
      "restecg     303 non-null int64\n",
      "thalach     303 non-null int64\n",
      "exang       303 non-null int64\n",
      "oldpeak     303 non-null float64\n",
      "slope       303 non-null int64\n",
      "ca          303 non-null int64\n",
      "thal        303 non-null int64\n",
      "target      303 non-null int64\n",
      "dtypes: float64(1), int64(13)\n",
      "memory usage: 33.2 KB\n"
     ]
    }
   ],
   "source": [
    "df.info()"
   ]
  },
  {
   "cell_type": "code",
   "execution_count": 5,
   "metadata": {
    "scrolled": false
   },
   "outputs": [
    {
     "data": {
      "text/html": [
       "<div>\n",
       "<style scoped>\n",
       "    .dataframe tbody tr th:only-of-type {\n",
       "        vertical-align: middle;\n",
       "    }\n",
       "\n",
       "    .dataframe tbody tr th {\n",
       "        vertical-align: top;\n",
       "    }\n",
       "\n",
       "    .dataframe thead th {\n",
       "        text-align: right;\n",
       "    }\n",
       "</style>\n",
       "<table border=\"1\" class=\"dataframe\">\n",
       "  <thead>\n",
       "    <tr style=\"text-align: right;\">\n",
       "      <th></th>\n",
       "      <th>age</th>\n",
       "      <th>sex</th>\n",
       "      <th>cp</th>\n",
       "      <th>trestbps</th>\n",
       "      <th>chol</th>\n",
       "      <th>fbs</th>\n",
       "      <th>restecg</th>\n",
       "      <th>thalach</th>\n",
       "      <th>exang</th>\n",
       "      <th>oldpeak</th>\n",
       "      <th>slope</th>\n",
       "      <th>ca</th>\n",
       "      <th>thal</th>\n",
       "      <th>target</th>\n",
       "    </tr>\n",
       "  </thead>\n",
       "  <tbody>\n",
       "    <tr>\n",
       "      <th>count</th>\n",
       "      <td>303.000000</td>\n",
       "      <td>303.000000</td>\n",
       "      <td>303.000000</td>\n",
       "      <td>303.000000</td>\n",
       "      <td>303.000000</td>\n",
       "      <td>303.000000</td>\n",
       "      <td>303.000000</td>\n",
       "      <td>303.000000</td>\n",
       "      <td>303.000000</td>\n",
       "      <td>303.000000</td>\n",
       "      <td>303.000000</td>\n",
       "      <td>303.000000</td>\n",
       "      <td>303.000000</td>\n",
       "      <td>303.000000</td>\n",
       "    </tr>\n",
       "    <tr>\n",
       "      <th>mean</th>\n",
       "      <td>54.366337</td>\n",
       "      <td>0.683168</td>\n",
       "      <td>0.966997</td>\n",
       "      <td>131.623762</td>\n",
       "      <td>246.264026</td>\n",
       "      <td>0.148515</td>\n",
       "      <td>0.528053</td>\n",
       "      <td>149.646865</td>\n",
       "      <td>0.326733</td>\n",
       "      <td>1.039604</td>\n",
       "      <td>1.399340</td>\n",
       "      <td>0.729373</td>\n",
       "      <td>2.313531</td>\n",
       "      <td>0.544554</td>\n",
       "    </tr>\n",
       "    <tr>\n",
       "      <th>std</th>\n",
       "      <td>9.082101</td>\n",
       "      <td>0.466011</td>\n",
       "      <td>1.032052</td>\n",
       "      <td>17.538143</td>\n",
       "      <td>51.830751</td>\n",
       "      <td>0.356198</td>\n",
       "      <td>0.525860</td>\n",
       "      <td>22.905161</td>\n",
       "      <td>0.469794</td>\n",
       "      <td>1.161075</td>\n",
       "      <td>0.616226</td>\n",
       "      <td>1.022606</td>\n",
       "      <td>0.612277</td>\n",
       "      <td>0.498835</td>\n",
       "    </tr>\n",
       "    <tr>\n",
       "      <th>min</th>\n",
       "      <td>29.000000</td>\n",
       "      <td>0.000000</td>\n",
       "      <td>0.000000</td>\n",
       "      <td>94.000000</td>\n",
       "      <td>126.000000</td>\n",
       "      <td>0.000000</td>\n",
       "      <td>0.000000</td>\n",
       "      <td>71.000000</td>\n",
       "      <td>0.000000</td>\n",
       "      <td>0.000000</td>\n",
       "      <td>0.000000</td>\n",
       "      <td>0.000000</td>\n",
       "      <td>0.000000</td>\n",
       "      <td>0.000000</td>\n",
       "    </tr>\n",
       "    <tr>\n",
       "      <th>25%</th>\n",
       "      <td>47.500000</td>\n",
       "      <td>0.000000</td>\n",
       "      <td>0.000000</td>\n",
       "      <td>120.000000</td>\n",
       "      <td>211.000000</td>\n",
       "      <td>0.000000</td>\n",
       "      <td>0.000000</td>\n",
       "      <td>133.500000</td>\n",
       "      <td>0.000000</td>\n",
       "      <td>0.000000</td>\n",
       "      <td>1.000000</td>\n",
       "      <td>0.000000</td>\n",
       "      <td>2.000000</td>\n",
       "      <td>0.000000</td>\n",
       "    </tr>\n",
       "    <tr>\n",
       "      <th>50%</th>\n",
       "      <td>55.000000</td>\n",
       "      <td>1.000000</td>\n",
       "      <td>1.000000</td>\n",
       "      <td>130.000000</td>\n",
       "      <td>240.000000</td>\n",
       "      <td>0.000000</td>\n",
       "      <td>1.000000</td>\n",
       "      <td>153.000000</td>\n",
       "      <td>0.000000</td>\n",
       "      <td>0.800000</td>\n",
       "      <td>1.000000</td>\n",
       "      <td>0.000000</td>\n",
       "      <td>2.000000</td>\n",
       "      <td>1.000000</td>\n",
       "    </tr>\n",
       "    <tr>\n",
       "      <th>75%</th>\n",
       "      <td>61.000000</td>\n",
       "      <td>1.000000</td>\n",
       "      <td>2.000000</td>\n",
       "      <td>140.000000</td>\n",
       "      <td>274.500000</td>\n",
       "      <td>0.000000</td>\n",
       "      <td>1.000000</td>\n",
       "      <td>166.000000</td>\n",
       "      <td>1.000000</td>\n",
       "      <td>1.600000</td>\n",
       "      <td>2.000000</td>\n",
       "      <td>1.000000</td>\n",
       "      <td>3.000000</td>\n",
       "      <td>1.000000</td>\n",
       "    </tr>\n",
       "    <tr>\n",
       "      <th>max</th>\n",
       "      <td>77.000000</td>\n",
       "      <td>1.000000</td>\n",
       "      <td>3.000000</td>\n",
       "      <td>200.000000</td>\n",
       "      <td>564.000000</td>\n",
       "      <td>1.000000</td>\n",
       "      <td>2.000000</td>\n",
       "      <td>202.000000</td>\n",
       "      <td>1.000000</td>\n",
       "      <td>6.200000</td>\n",
       "      <td>2.000000</td>\n",
       "      <td>4.000000</td>\n",
       "      <td>3.000000</td>\n",
       "      <td>1.000000</td>\n",
       "    </tr>\n",
       "  </tbody>\n",
       "</table>\n",
       "</div>"
      ],
      "text/plain": [
       "              age         sex          cp    trestbps        chol         fbs  \\\n",
       "count  303.000000  303.000000  303.000000  303.000000  303.000000  303.000000   \n",
       "mean    54.366337    0.683168    0.966997  131.623762  246.264026    0.148515   \n",
       "std      9.082101    0.466011    1.032052   17.538143   51.830751    0.356198   \n",
       "min     29.000000    0.000000    0.000000   94.000000  126.000000    0.000000   \n",
       "25%     47.500000    0.000000    0.000000  120.000000  211.000000    0.000000   \n",
       "50%     55.000000    1.000000    1.000000  130.000000  240.000000    0.000000   \n",
       "75%     61.000000    1.000000    2.000000  140.000000  274.500000    0.000000   \n",
       "max     77.000000    1.000000    3.000000  200.000000  564.000000    1.000000   \n",
       "\n",
       "          restecg     thalach       exang     oldpeak       slope          ca  \\\n",
       "count  303.000000  303.000000  303.000000  303.000000  303.000000  303.000000   \n",
       "mean     0.528053  149.646865    0.326733    1.039604    1.399340    0.729373   \n",
       "std      0.525860   22.905161    0.469794    1.161075    0.616226    1.022606   \n",
       "min      0.000000   71.000000    0.000000    0.000000    0.000000    0.000000   \n",
       "25%      0.000000  133.500000    0.000000    0.000000    1.000000    0.000000   \n",
       "50%      1.000000  153.000000    0.000000    0.800000    1.000000    0.000000   \n",
       "75%      1.000000  166.000000    1.000000    1.600000    2.000000    1.000000   \n",
       "max      2.000000  202.000000    1.000000    6.200000    2.000000    4.000000   \n",
       "\n",
       "             thal      target  \n",
       "count  303.000000  303.000000  \n",
       "mean     2.313531    0.544554  \n",
       "std      0.612277    0.498835  \n",
       "min      0.000000    0.000000  \n",
       "25%      2.000000    0.000000  \n",
       "50%      2.000000    1.000000  \n",
       "75%      3.000000    1.000000  \n",
       "max      3.000000    1.000000  "
      ]
     },
     "execution_count": 5,
     "metadata": {},
     "output_type": "execute_result"
    }
   ],
   "source": [
    "df.describe()"
   ]
  },
  {
   "cell_type": "code",
   "execution_count": 6,
   "metadata": {},
   "outputs": [
    {
     "data": {
      "text/plain": [
       "<matplotlib.axes._subplots.AxesSubplot at 0x7f0a890d0278>"
      ]
     },
     "execution_count": 6,
     "metadata": {},
     "output_type": "execute_result"
    },
    {
     "data": {
      "image/png": "[encoded data removed]",
      "text/plain": [
       "<Figure size 1080x1080 with 2 Axes>"
      ]
     },
     "metadata": {
      "needs_background": "light"
     },
     "output_type": "display_data"
    }
   ],
   "source": [
    "# Матрица корреляции:\n",
    "plt.figure(figsize=(15,15))\n",
    "corrMatrix = df.corr()\n",
    "sns.heatmap(corrMatrix, annot=True)"
   ]
  },
  {
   "cell_type": "markdown",
   "metadata": {},
   "source": [
    "#### EDA совет:\n",
    "Загрузите случайную выборку из этого набора данных.  \n",
    "Сколько строк и столбцов в таблице?  \n",
    "Каковы называния столбцов?  \n",
    "Какие типы данных у различных столбцов?  \n",
    "Сколько в каждом из них униальных значений?  \n",
    "Сколько пропущенных?  \n",
    "Взгляните на распределения числовых переменных.  "
   ]
  },
  {
   "cell_type": "markdown",
   "metadata": {},
   "source": [
    "#### Вывод:\n",
    "* Очень маленький датасет, в данных 303 строчки,\n",
    "* Нет пропусков в данных\n",
    "* Сходу можно отметить отрицательную корреляцию **slope** и **oldpeak**\n",
    "\n",
    "#### Типы признаков: \n",
    "* Бинарные: **sex, exang, target**  \n",
    "* Категориальные: **cp, restecg, thal**  \n",
    "* Порядковые: **slope, ca**  \n",
    "* Количественные: **age, trestbps, chol, fbs, thalach, oldpeak**  \n",
    "\n",
    "\n"
   ]
  },
  {
   "cell_type": "markdown",
   "metadata": {},
   "source": [
    "## age\n",
    "В данные попали люди возрастом от 29 до 77 лет"
   ]
  },
  {
   "cell_type": "code",
   "execution_count": 7,
   "metadata": {
    "scrolled": false
   },
   "outputs": [
    {
     "data": {
      "text/plain": [
       "<matplotlib.axes._subplots.AxesSubplot at 0x7f0a86aed240>"
      ]
     },
     "execution_count": 7,
     "metadata": {},
     "output_type": "execute_result"
    },
    {
     "data": {
      "image/png": "[encoded data removed]",
      "text/plain": [
       "<Figure size 432x288 with 1 Axes>"
      ]
     },
     "metadata": {
      "needs_background": "light"
     },
     "output_type": "display_data"
    }
   ],
   "source": [
    "sns.distplot(df.age)"
   ]
  },
  {
   "cell_type": "code",
   "execution_count": 8,
   "metadata": {},
   "outputs": [
    {
     "data": {
      "text/plain": [
       "<matplotlib.legend.Legend at 0x7f0a8915ee80>"
      ]
     },
     "execution_count": 8,
     "metadata": {},
     "output_type": "execute_result"
    },
    {
     "data": {
      "image/png": "[encoded data removed]",
      "text/plain": [
       "<Figure size 432x288 with 1 Axes>"
      ]
     },
     "metadata": {
      "needs_background": "light"
     },
     "output_type": "display_data"
    }
   ],
   "source": [
    "sns.distplot(df[df['target']==0].age, label='target=False')\n",
    "sns.distplot(df[df['target']==1].age, label='target=True')\n",
    "plt.legend()"
   ]
  },
  {
   "cell_type": "markdown",
   "metadata": {},
   "source": [
    "В данной выборке присутствуют люди с 29 до 77 лет.\n",
    "Стоит отметить, что возраст с **target**=true смещен в сторону более молодых людей"
   ]
  },
  {
   "cell_type": "markdown",
   "metadata": {},
   "source": [
    "## sex\n",
    "В данном датасете больше мужчин. Но стоит отметить, что среди \"больных\" число мужчин и женщин почти одинаковое"
   ]
  },
  {
   "cell_type": "code",
   "execution_count": 9,
   "metadata": {
    "scrolled": true
   },
   "outputs": [
    {
     "data": {
      "text/plain": [
       "sex\n",
       "0     96\n",
       "1    207\n",
       "dtype: int64"
      ]
     },
     "execution_count": 9,
     "metadata": {},
     "output_type": "execute_result"
    }
   ],
   "source": [
    "df.groupby('sex').size()"
   ]
  },
  {
   "cell_type": "code",
   "execution_count": 10,
   "metadata": {},
   "outputs": [
    {
     "data": {
      "image/png": "[encoded data removed]",
      "text/plain": [
       "<Figure size 422.125x360 with 1 Axes>"
      ]
     },
     "metadata": {
      "needs_background": "light"
     },
     "output_type": "display_data"
    }
   ],
   "source": [
    "d_sex = {0 : \"Female\", 1 : \"Male\"}\n",
    "d_target = {0 : \"False\", 1 : \"True\"}\n",
    "sns.catplot(x=\"sex\", hue=\"target\", kind=\"count\", data=df.replace({'sex' : d_sex, 'target': d_target}));"
   ]
  },
  {
   "cell_type": "markdown",
   "metadata": {},
   "source": [
    "## restecg\n",
    "Нет жесткой уверенности, что это категориальный признак, а не порядковый"
   ]
  },
  {
   "cell_type": "code",
   "execution_count": 11,
   "metadata": {
    "scrolled": true
   },
   "outputs": [
    {
     "data": {
      "text/plain": [
       "<matplotlib.axes._subplots.AxesSubplot at 0x7f0a86fe9208>"
      ]
     },
     "execution_count": 11,
     "metadata": {},
     "output_type": "execute_result"
    },
    {
     "data": {
      "image/png": "[encoded data removed]",
      "text/plain": [
       "<Figure size 432x288 with 1 Axes>"
      ]
     },
     "metadata": {
      "needs_background": "light"
     },
     "output_type": "display_data"
    }
   ],
   "source": [
    "# Гистограммы людей с низким риском сердечных заболеваний\n",
    "df['slope'].hist()"
   ]
  },
  {
   "cell_type": "markdown",
   "metadata": {},
   "source": [
    "## target\n",
    "В целом, выборку можно назвать сбалансированной, число различных классов в target примерно равно по количеству"
   ]
  },
  {
   "cell_type": "code",
   "execution_count": 12,
   "metadata": {
    "scrolled": true
   },
   "outputs": [
    {
     "name": "stdout",
     "output_type": "stream",
     "text": [
      "target\n",
      "0    138\n",
      "1    165\n",
      "dtype: int64\n"
     ]
    },
    {
     "data": {
      "text/plain": [
       "<matplotlib.axes._subplots.AxesSubplot at 0x7f0a86eb2438>"
      ]
     },
     "execution_count": 12,
     "metadata": {},
     "output_type": "execute_result"
    },
    {
     "data": {
      "image/png": "[encoded data removed]",
      "text/plain": [
       "<Figure size 432x288 with 1 Axes>"
      ]
     },
     "metadata": {
      "needs_background": "light"
     },
     "output_type": "display_data"
    }
   ],
   "source": [
    "print(df.groupby('target').size())\n",
    "df['target'].hist()"
   ]
  },
  {
   "cell_type": "code",
   "execution_count": 13,
   "metadata": {},
   "outputs": [
    {
     "data": {
      "text/plain": [
       "array([[<matplotlib.axes._subplots.AxesSubplot object at 0x7f0a86e7e240>,\n",
       "        <matplotlib.axes._subplots.AxesSubplot object at 0x7f0a86f3d8d0>,\n",
       "        <matplotlib.axes._subplots.AxesSubplot object at 0x7f0a86e8cf60>,\n",
       "        <matplotlib.axes._subplots.AxesSubplot object at 0x7f0a86fa4518>],\n",
       "       [<matplotlib.axes._subplots.AxesSubplot object at 0x7f0a86ad6a90>,\n",
       "        <matplotlib.axes._subplots.AxesSubplot object at 0x7f0a86e91fd0>,\n",
       "        <matplotlib.axes._subplots.AxesSubplot object at 0x7f0a86eaf588>,\n",
       "        <matplotlib.axes._subplots.AxesSubplot object at 0x7f0a86e48b00>],\n",
       "       [<matplotlib.axes._subplots.AxesSubplot object at 0x7f0a86e650b8>,\n",
       "        <matplotlib.axes._subplots.AxesSubplot object at 0x7f0a86dfc630>,\n",
       "        <matplotlib.axes._subplots.AxesSubplot object at 0x7f0a86e13ba8>,\n",
       "        <matplotlib.axes._subplots.AxesSubplot object at 0x7f0a86db2160>],\n",
       "       [<matplotlib.axes._subplots.AxesSubplot object at 0x7f0a86dc86d8>,\n",
       "        <matplotlib.axes._subplots.AxesSubplot object at 0x7f0a86de0c50>,\n",
       "        <matplotlib.axes._subplots.AxesSubplot object at 0x7f0a86d7e208>,\n",
       "        <matplotlib.axes._subplots.AxesSubplot object at 0x7f0a86d97780>]],\n",
       "      dtype=object)"
      ]
     },
     "execution_count": 13,
     "metadata": {},
     "output_type": "execute_result"
    },
    {
     "data": {
      "image/png": "[encoded data removed]",
      "text/plain": [
       "<Figure size 432x288 with 16 Axes>"
      ]
     },
     "metadata": {
      "needs_background": "light"
     },
     "output_type": "display_data"
    }
   ],
   "source": [
    "# Гистограммы людей с низким риском сердечных заболеваний\n",
    "df[df['target']==0].hist()"
   ]
  },
  {
   "cell_type": "code",
   "execution_count": 14,
   "metadata": {
    "scrolled": true
   },
   "outputs": [
    {
     "data": {
      "text/plain": [
       "array([[<matplotlib.axes._subplots.AxesSubplot object at 0x7f0a86d6d208>,\n",
       "        <matplotlib.axes._subplots.AxesSubplot object at 0x7f0a86bfeeb8>,\n",
       "        <matplotlib.axes._subplots.AxesSubplot object at 0x7f0a84f71e80>,\n",
       "        <matplotlib.axes._subplots.AxesSubplot object at 0x7f0a84f8d438>],\n",
       "       [<matplotlib.axes._subplots.AxesSubplot object at 0x7f0a84f249b0>,\n",
       "        <matplotlib.axes._subplots.AxesSubplot object at 0x7f0a84f3bf28>,\n",
       "        <matplotlib.axes._subplots.AxesSubplot object at 0x7f0a84ed84e0>,\n",
       "        <matplotlib.axes._subplots.AxesSubplot object at 0x7f0a84ef0a20>],\n",
       "       [<matplotlib.axes._subplots.AxesSubplot object at 0x7f0a84f09f98>,\n",
       "        <matplotlib.axes._subplots.AxesSubplot object at 0x7f0a84ea6550>,\n",
       "        <matplotlib.axes._subplots.AxesSubplot object at 0x7f0a84ebeac8>,\n",
       "        <matplotlib.axes._subplots.AxesSubplot object at 0x7f0a84e5c080>],\n",
       "       [<matplotlib.axes._subplots.AxesSubplot object at 0x7f0a84e735f8>,\n",
       "        <matplotlib.axes._subplots.AxesSubplot object at 0x7f0a84e8ab70>,\n",
       "        <matplotlib.axes._subplots.AxesSubplot object at 0x7f0a84e29128>,\n",
       "        <matplotlib.axes._subplots.AxesSubplot object at 0x7f0a84e416a0>]],\n",
       "      dtype=object)"
      ]
     },
     "execution_count": 14,
     "metadata": {},
     "output_type": "execute_result"
    },
    {
     "data": {
      "image/png": "[encoded data removed]",
      "text/plain": [
       "<Figure size 432x288 with 16 Axes>"
      ]
     },
     "metadata": {
      "needs_background": "light"
     },
     "output_type": "display_data"
    }
   ],
   "source": [
    "# Гистограммы людей с высоким риском сердечных заболеваний\n",
    "df[df['target']==1].hist()"
   ]
  },
  {
   "cell_type": "markdown",
   "metadata": {},
   "source": [
    "## Выбор метрик качества <a name=\"metrics\"></a>\n",
    "\n",
    "Для нашей задачи бинарной классификации мы можем использовать следующие метрики:  \n",
    "* Accuracy\n",
    "* Precision, recall и F-score\n",
    "* AUC-ROC и AUC-PR\n",
    "* Logloss\n",
    "\n",
    "\n",
    "В силу того, что классы сбалансированны, мы можем использовать метрику, я решил брать accuracy"
   ]
  },
  {
   "cell_type": "markdown",
   "metadata": {},
   "source": [
    "\n",
    "## Предсказывающие модели <a name=\"models\"></a>"
   ]
  },
  {
   "cell_type": "code",
   "execution_count": 15,
   "metadata": {},
   "outputs": [
    {
     "name": "stderr",
     "output_type": "stream",
     "text": [
      "/home/kulinar/epamds/.venv/lib/python3.5/site-packages/xgboost/__init__.py:29: FutureWarning: Python 3.5 support is deprecated; XGBoost will require Python 3.6+ in the near future. Consider upgrading to Python 3.6+.\n",
      "  FutureWarning)\n"
     ]
    }
   ],
   "source": [
    "from sklearn.metrics import confusion_matrix,accuracy_score,roc_curve,classification_report\n",
    "\n",
    "from sklearn.linear_model import LogisticRegression\n",
    "from sklearn.naive_bayes import GaussianNB\n",
    "from xgboost import XGBClassifier\n",
    "from sklearn.ensemble import RandomForestClassifier\n",
    "from sklearn.tree import DecisionTreeClassifier\n",
    "from sklearn.neighbors import KNeighborsClassifier\n",
    "from sklearn.naive_bayes import GaussianNB\n",
    "from sklearn.svm import SVC"
   ]
  },
  {
   "cell_type": "code",
   "execution_count": 16,
   "metadata": {},
   "outputs": [],
   "source": [
    "from sklearn.model_selection import GridSearchCV, train_test_split"
   ]
  },
  {
   "cell_type": "code",
   "execution_count": 17,
   "metadata": {},
   "outputs": [],
   "source": [
    "X_train, X_test , y_train, y_test = train_test_split(df.drop('target',axis=1), df.target, random_state = 32, test_size = 0.2)"
   ]
  },
  {
   "cell_type": "code",
   "execution_count": 18,
   "metadata": {},
   "outputs": [],
   "source": [
    "# Предобработаем\n",
    "from sklearn.preprocessing import StandardScaler\n",
    "scaler = StandardScaler()\n",
    "X_train = scaler.fit_transform(X_train)\n",
    "X_test = scaler.transform(X_test)"
   ]
  },
  {
   "cell_type": "markdown",
   "metadata": {},
   "source": [
    "Переберем стандартные модели для задачи бинарной классификации и сравним их:\n",
    "1. Логрегрессия\n",
    "2. Naive Bayes\n",
    "3. Случайный лес\n",
    "4. XGBoost\n",
    "5. KNN\n",
    "6. DecisionTreeClassifier\n",
    "7. Support Vector Classifier\n",
    "8. CatBoost "
   ]
  },
  {
   "cell_type": "markdown",
   "metadata": {},
   "source": [
    "### 1. Логрегрессия"
   ]
  },
  {
   "cell_type": "code",
   "execution_count": 19,
   "metadata": {},
   "outputs": [
    {
     "name": "stdout",
     "output_type": "stream",
     "text": [
      "CPU times: user 9.33 ms, sys: 0 ns, total: 9.33 ms\n",
      "Wall time: 101 ms\n",
      "confussion matrix\n",
      "[[23  7]\n",
      " [ 3 28]]\n",
      "\n",
      "\n",
      "Accuracy of Logistic Regression: 83.60655737704919 \n",
      "\n",
      "              precision    recall  f1-score   support\n",
      "\n",
      "           0       0.88      0.77      0.82        30\n",
      "           1       0.80      0.90      0.85        31\n",
      "\n",
      "    accuracy                           0.84        61\n",
      "   macro avg       0.84      0.83      0.83        61\n",
      "weighted avg       0.84      0.84      0.84        61\n",
      "\n"
     ]
    }
   ],
   "source": [
    "m1 = 'Logistic Regression'\n",
    "lr = LogisticRegression()\n",
    "%time model = lr.fit(X_train, y_train)\n",
    "lr_predict = lr.predict(X_test)\n",
    "lr_conf_matrix = confusion_matrix(y_test, lr_predict)\n",
    "lr_acc_score = accuracy_score(y_test, lr_predict)\n",
    "print(\"confussion matrix\")\n",
    "print(lr_conf_matrix)\n",
    "print(\"\\n\")\n",
    "print(\"Accuracy of Logistic Regression:\",lr_acc_score*100,'\\n')\n",
    "print(classification_report(y_test,lr_predict))"
   ]
  },
  {
   "cell_type": "markdown",
   "metadata": {},
   "source": [
    "### 2. Наивный байесовский классификатор"
   ]
  },
  {
   "cell_type": "code",
   "execution_count": 20,
   "metadata": {},
   "outputs": [
    {
     "name": "stdout",
     "output_type": "stream",
     "text": [
      "CPU times: user 2.4 ms, sys: 0 ns, total: 2.4 ms\n",
      "Wall time: 2.31 ms\n",
      "confussion matrix\n",
      "[[23  7]\n",
      " [ 2 29]]\n",
      "\n",
      "\n",
      "Accuracy of Naive Bayes model: 85.24590163934425 \n",
      "\n",
      "              precision    recall  f1-score   support\n",
      "\n",
      "           0       0.92      0.77      0.84        30\n",
      "           1       0.81      0.94      0.87        31\n",
      "\n",
      "    accuracy                           0.85        61\n",
      "   macro avg       0.86      0.85      0.85        61\n",
      "weighted avg       0.86      0.85      0.85        61\n",
      "\n"
     ]
    }
   ],
   "source": [
    "m2 = 'Naive Bayes'\n",
    "nb = GaussianNB()\n",
    "%time nb.fit(X_train,y_train)\n",
    "nbpred = nb.predict(X_test)\n",
    "nb_conf_matrix = confusion_matrix(y_test, nbpred)\n",
    "nb_acc_score = accuracy_score(y_test, nbpred)\n",
    "print(\"confussion matrix\")\n",
    "print(nb_conf_matrix)\n",
    "print(\"\\n\")\n",
    "print(\"Accuracy of Naive Bayes model:\",nb_acc_score*100,'\\n')\n",
    "print(classification_report(y_test,nbpred))"
   ]
  },
  {
   "cell_type": "markdown",
   "metadata": {},
   "source": [
    "### 3. Случайный лес"
   ]
  },
  {
   "cell_type": "code",
   "execution_count": 21,
   "metadata": {},
   "outputs": [
    {
     "name": "stdout",
     "output_type": "stream",
     "text": [
      "CPU times: user 43 ms, sys: 0 ns, total: 43 ms\n",
      "Wall time: 152 ms\n",
      "confussion matrix\n",
      "[[23  7]\n",
      " [ 2 29]]\n",
      "\n",
      "\n",
      "Accuracy of Random Forest: 85.24590163934425 \n",
      "\n",
      "              precision    recall  f1-score   support\n",
      "\n",
      "           0       0.92      0.77      0.84        30\n",
      "           1       0.81      0.94      0.87        31\n",
      "\n",
      "    accuracy                           0.85        61\n",
      "   macro avg       0.86      0.85      0.85        61\n",
      "weighted avg       0.86      0.85      0.85        61\n",
      "\n"
     ]
    }
   ],
   "source": [
    "m3 = 'Random Forest Classfier'\n",
    "rf = RandomForestClassifier(n_estimators=20, random_state=12, max_depth=5)\n",
    "%time rf.fit(X_train,y_train)\n",
    "rf_predicted = rf.predict(X_test)\n",
    "rf_conf_matrix = confusion_matrix(y_test, rf_predicted)\n",
    "rf_acc_score = accuracy_score(y_test, rf_predicted)\n",
    "print(\"confussion matrix\")\n",
    "print(rf_conf_matrix)\n",
    "print(\"\\n\")\n",
    "print(\"Accuracy of Random Forest:\",rf_acc_score*100,'\\n')\n",
    "print(classification_report(y_test,rf_predicted))"
   ]
  },
  {
   "cell_type": "code",
   "execution_count": 22,
   "metadata": {},
   "outputs": [],
   "source": [
    "# решил подобрать параметры получше\n",
    "rfc = RandomForestClassifier(n_jobs=-1,max_features= 'sqrt' ,n_estimators=50, oob_score = True, bootstrap = True,) \n",
    "\n",
    "param_grid = { \n",
    "    'n_estimators': [20, 40, 70, 100,150],\n",
    "    'max_features': ['auto', 'sqrt', 'log2'],\n",
    "    'random_state' : [0,32,48],\n",
    "}\n",
    "\n",
    "CV_rfc = GridSearchCV(estimator=rfc, param_grid=param_grid, cv= 5)"
   ]
  },
  {
   "cell_type": "code",
   "execution_count": 23,
   "metadata": {
    "scrolled": true
   },
   "outputs": [
    {
     "name": "stdout",
     "output_type": "stream",
     "text": [
      "CPU times: user 55.7 s, sys: 2.29 s, total: 58 s\n",
      "Wall time: 1min 34s\n"
     ]
    },
    {
     "data": {
      "text/plain": [
       "GridSearchCV(cv=5, error_score=nan,\n",
       "             estimator=RandomForestClassifier(bootstrap=True, ccp_alpha=0.0,\n",
       "                                              class_weight=None,\n",
       "                                              criterion='gini', max_depth=None,\n",
       "                                              max_features='sqrt',\n",
       "                                              max_leaf_nodes=None,\n",
       "                                              max_samples=None,\n",
       "                                              min_impurity_decrease=0.0,\n",
       "                                              min_impurity_split=None,\n",
       "                                              min_samples_leaf=1,\n",
       "                                              min_samples_split=2,\n",
       "                                              min_weight_fraction_leaf=0.0,\n",
       "                                              n_estimators=50, n_jobs=-1,\n",
       "                                              oob_score=True, random_state=None,\n",
       "                                              verbose=0, warm_start=False),\n",
       "             iid='deprecated', n_jobs=None,\n",
       "             param_grid={'max_features': ['auto', 'sqrt', 'log2'],\n",
       "                         'n_estimators': [20, 40, 70, 100, 150],\n",
       "                         'random_state': [0, 32, 48]},\n",
       "             pre_dispatch='2*n_jobs', refit=True, return_train_score=False,\n",
       "             scoring=None, verbose=0)"
      ]
     },
     "execution_count": 23,
     "metadata": {},
     "output_type": "execute_result"
    }
   ],
   "source": [
    "%time CV_rfc.fit(X_train,y_train)"
   ]
  },
  {
   "cell_type": "code",
   "execution_count": 24,
   "metadata": {},
   "outputs": [
    {
     "data": {
      "text/plain": [
       "RandomForestClassifier(bootstrap=True, ccp_alpha=0.0, class_weight=None,\n",
       "                       criterion='gini', max_depth=None, max_features='auto',\n",
       "                       max_leaf_nodes=None, max_samples=None,\n",
       "                       min_impurity_decrease=0.0, min_impurity_split=None,\n",
       "                       min_samples_leaf=1, min_samples_split=2,\n",
       "                       min_weight_fraction_leaf=0.0, n_estimators=150,\n",
       "                       n_jobs=-1, oob_score=True, random_state=0, verbose=0,\n",
       "                       warm_start=False)"
      ]
     },
     "execution_count": 24,
     "metadata": {},
     "output_type": "execute_result"
    }
   ],
   "source": [
    "CV_rfc.best_estimator_"
   ]
  },
  {
   "cell_type": "code",
   "execution_count": 25,
   "metadata": {},
   "outputs": [
    {
     "name": "stdout",
     "output_type": "stream",
     "text": [
      "confussion matrix\n",
      "[[23  7]\n",
      " [ 2 29]]\n",
      "\n",
      "\n",
      "Accuracy of Random Forest: 85.24590163934425 \n",
      "\n",
      "              precision    recall  f1-score   support\n",
      "\n",
      "           0       0.88      0.77      0.82        30\n",
      "           1       0.80      0.90      0.85        31\n",
      "\n",
      "    accuracy                           0.84        61\n",
      "   macro avg       0.84      0.83      0.83        61\n",
      "weighted avg       0.84      0.84      0.84        61\n",
      "\n"
     ]
    }
   ],
   "source": [
    "CV_rfc_preds = CV_rfc.predict(X_test)\n",
    "print(\"confussion matrix\")\n",
    "print(rf_conf_matrix)\n",
    "print(\"\\n\")\n",
    "print(\"Accuracy of Random Forest:\",rf_acc_score*100,'\\n')\n",
    "print(classification_report(y_test,CV_rfc_preds))"
   ]
  },
  {
   "cell_type": "markdown",
   "metadata": {},
   "source": [
    "### 4. XGBoost"
   ]
  },
  {
   "cell_type": "code",
   "execution_count": 46,
   "metadata": {
    "scrolled": false
   },
   "outputs": [
    {
     "name": "stdout",
     "output_type": "stream",
     "text": [
      "Fitting 10 folds for each of 12 candidates, totalling 120 fits\n"
     ]
    },
    {
     "name": "stderr",
     "output_type": "stream",
     "text": [
      "[Parallel(n_jobs=-1)]: Using backend LokyBackend with 4 concurrent workers.\n"
     ]
    },
    {
     "name": "stdout",
     "output_type": "stream",
     "text": [
      "CPU times: user 641 ms, sys: 8.88 ms, total: 650 ms\n",
      "Wall time: 2.49 s\n"
     ]
    },
    {
     "name": "stderr",
     "output_type": "stream",
     "text": [
      "[Parallel(n_jobs=-1)]: Done 120 out of 120 | elapsed:    2.0s finished\n"
     ]
    },
    {
     "data": {
      "text/plain": [
       "GridSearchCV(cv=StratifiedKFold(n_splits=10, random_state=7, shuffle=True),\n",
       "             error_score=nan,\n",
       "             estimator=XGBClassifier(base_score=None, booster=None,\n",
       "                                     colsample_bylevel=None,\n",
       "                                     colsample_bynode=None,\n",
       "                                     colsample_bytree=None, gamma=0.6,\n",
       "                                     gpu_id=None, importance_type='gain',\n",
       "                                     interaction_constraints=None,\n",
       "                                     learning_rate=0.003, max_delta_step=None,\n",
       "                                     max_depth=6, min_child_weigh...\n",
       "                                     objective='binary:logistic',\n",
       "                                     random_state=None, reg_alpha=None,\n",
       "                                     reg_lambda=6, scale_pos_weight=None,\n",
       "                                     subsample=0.52, tree_method=None,\n",
       "                                     validate_parameters=None, verbosity=None),\n",
       "             iid='deprecated', n_jobs=-1,\n",
       "             param_grid={'max_depth': [2, 6, 12],\n",
       "                         'n_estimators': [25, 50, 120, 200]},\n",
       "             pre_dispatch='2*n_jobs', refit=True, return_train_score=False,\n",
       "             scoring='accuracy', verbose=1)"
      ]
     },
     "execution_count": 46,
     "metadata": {},
     "output_type": "execute_result"
    }
   ],
   "source": [
    "m4 = 'Extreme Gradient Boost'\n",
    "# Скорость обучения уменьшил, регуляризацию подкрутил.\n",
    "# Выбрал остальные данные согласно рекомендациям из: https://www.machinelearningmastery.ru/xgboost-python-mini-course/\n",
    "xgb = XGBClassifier(learning_rate=0.003, n_estimators=25, max_depth=6, reg_lambda=6, gamma=0.6, subsample=0.52)\n",
    "\n",
    "# пройдем по сетке параметров\n",
    "from sklearn.model_selection import StratifiedKFold\n",
    "n_estimators = [25, 50, 120, 200]\n",
    "max_depth = [2, 6, 12]\n",
    "param_grid = dict(max_depth=max_depth, n_estimators=n_estimators)\n",
    "\n",
    "kfold = StratifiedKFold(n_splits=10, shuffle=True, random_state=7)\n",
    "xgb_grid_search = GridSearchCV(xgb, param_grid, scoring=\"accuracy\", n_jobs=-1, cv=kfold, verbose=1)\n",
    "%time xgb_grid_search.fit(X_train, y_train)\n"
   ]
  },
  {
   "cell_type": "code",
   "execution_count": 47,
   "metadata": {},
   "outputs": [
    {
     "name": "stdout",
     "output_type": "stream",
     "text": [
      "confussion matrix\n",
      "[[22  8]\n",
      " [ 2 29]]\n",
      "\n",
      "\n",
      "Accuracy of Random Forest: 83.60655737704919 \n",
      "\n",
      "              precision    recall  f1-score   support\n",
      "\n",
      "           0       0.92      0.73      0.81        30\n",
      "           1       0.78      0.94      0.85        31\n",
      "\n",
      "    accuracy                           0.84        61\n",
      "   macro avg       0.85      0.83      0.83        61\n",
      "weighted avg       0.85      0.84      0.83        61\n",
      "\n"
     ]
    }
   ],
   "source": [
    "xgb = xgb_grid_search.best_estimator_\n",
    "xgb_predicted = xgb.predict(X_test)\n",
    "xgb_conf_matrix = confusion_matrix(y_test, xgb_predicted)\n",
    "xgb_acc_score = accuracy_score(y_test, xgb_predicted)\n",
    "print(\"confussion matrix\")\n",
    "print(xgb_conf_matrix)\n",
    "print(\"\\n\")\n",
    "print(\"Accuracy of Random Forest:\",xgb_acc_score*100,'\\n')\n",
    "print(classification_report(y_test,xgb_predicted))"
   ]
  },
  {
   "cell_type": "markdown",
   "metadata": {},
   "source": [
    "### 5. KNN"
   ]
  },
  {
   "cell_type": "code",
   "execution_count": 30,
   "metadata": {
    "scrolled": true
   },
   "outputs": [
    {
     "name": "stdout",
     "output_type": "stream",
     "text": [
      "CPU times: user 1.65 ms, sys: 3.76 ms, total: 5.41 ms\n",
      "Wall time: 58.9 ms\n",
      "confussion matrix\n",
      "[[24  6]\n",
      " [ 1 30]]\n",
      "\n",
      "\n",
      "Accuracy of K-NeighborsClassifier: 88.52459016393442 \n",
      "\n",
      "              precision    recall  f1-score   support\n",
      "\n",
      "           0       0.96      0.80      0.87        30\n",
      "           1       0.83      0.97      0.90        31\n",
      "\n",
      "    accuracy                           0.89        61\n",
      "   macro avg       0.90      0.88      0.88        61\n",
      "weighted avg       0.90      0.89      0.88        61\n",
      "\n"
     ]
    }
   ],
   "source": [
    "m5 = 'K-NeighborsClassifier'\n",
    "# Покрутив быстро число соседей, выбрал 12 \n",
    "knn = KNeighborsClassifier(n_neighbors=12)\n",
    "%time knn.fit(X_train, y_train)\n",
    "knn_predicted = knn.predict(X_test)\n",
    "knn_conf_matrix = confusion_matrix(y_test, knn_predicted)\n",
    "knn_acc_score = accuracy_score(y_test, knn_predicted)\n",
    "print(\"confussion matrix\")\n",
    "print(knn_conf_matrix)\n",
    "print(\"\\n\")\n",
    "print(\"Accuracy of K-NeighborsClassifier:\",knn_acc_score*100,'\\n')\n",
    "print(classification_report(y_test,knn_predicted))"
   ]
  },
  {
   "cell_type": "markdown",
   "metadata": {},
   "source": [
    "### 6. DecisionTreeClassifier"
   ]
  },
  {
   "cell_type": "code",
   "execution_count": 31,
   "metadata": {},
   "outputs": [
    {
     "name": "stdout",
     "output_type": "stream",
     "text": [
      "CPU times: user 1.39 ms, sys: 7.25 ms, total: 8.64 ms\n",
      "Wall time: 257 ms\n",
      "confussion matrix\n",
      "[[20 10]\n",
      " [ 2 29]]\n",
      "\n",
      "\n",
      "Accuracy of DecisionTreeClassifier: 80.32786885245902 \n",
      "\n",
      "              precision    recall  f1-score   support\n",
      "\n",
      "           0       0.91      0.67      0.77        30\n",
      "           1       0.74      0.94      0.83        31\n",
      "\n",
      "    accuracy                           0.80        61\n",
      "   macro avg       0.83      0.80      0.80        61\n",
      "weighted avg       0.82      0.80      0.80        61\n",
      "\n"
     ]
    }
   ],
   "source": [
    "m6 = 'DecisionTreeClassifier'\n",
    "# Покрутив быстро макисмальную глубину, выбрал 3 \n",
    "dt = DecisionTreeClassifier(criterion = 'entropy',random_state=0,max_depth = 3)\n",
    "%time dt.fit(X_train, y_train)\n",
    "dt_predicted = dt.predict(X_test)\n",
    "dt_conf_matrix = confusion_matrix(y_test, dt_predicted)\n",
    "dt_acc_score = accuracy_score(y_test, dt_predicted)\n",
    "print(\"confussion matrix\")\n",
    "print(dt_conf_matrix)\n",
    "print(\"\\n\")\n",
    "print(\"Accuracy of DecisionTreeClassifier:\",dt_acc_score*100,'\\n')\n",
    "print(classification_report(y_test,dt_predicted))"
   ]
  },
  {
   "cell_type": "markdown",
   "metadata": {},
   "source": [
    "### 7. Support Vector Classifier"
   ]
  },
  {
   "cell_type": "code",
   "execution_count": 32,
   "metadata": {
    "scrolled": true
   },
   "outputs": [
    {
     "name": "stdout",
     "output_type": "stream",
     "text": [
      "CPU times: user 2.7 ms, sys: 3.37 ms, total: 6.07 ms\n",
      "Wall time: 28 ms\n",
      "confussion matrix\n",
      "[[22  8]\n",
      " [ 3 28]]\n",
      "\n",
      "\n",
      "Accuracy of Support Vector Classifier: 81.9672131147541 \n",
      "\n",
      "              precision    recall  f1-score   support\n",
      "\n",
      "           0       0.88      0.73      0.80        30\n",
      "           1       0.78      0.90      0.84        31\n",
      "\n",
      "    accuracy                           0.82        61\n",
      "   macro avg       0.83      0.82      0.82        61\n",
      "weighted avg       0.83      0.82      0.82        61\n",
      "\n"
     ]
    }
   ],
   "source": [
    "m7 = 'Support Vector Classifier'\n",
    "# быстро покрутив параметры я выбрал регуляризацию (параметр C) около 0.3\n",
    "svc =  SVC(kernel='rbf', C=0.3)\n",
    "%time svc.fit(X_train, y_train)\n",
    "svc_predicted = svc.predict(X_test)\n",
    "svc_conf_matrix = confusion_matrix(y_test, svc_predicted)\n",
    "svc_acc_score = accuracy_score(y_test, svc_predicted)\n",
    "print(\"confussion matrix\")\n",
    "print(svc_conf_matrix)\n",
    "print(\"\\n\")\n",
    "print(\"Accuracy of Support Vector Classifier:\",svc_acc_score*100,'\\n')\n",
    "print(classification_report(y_test,svc_predicted))"
   ]
  },
  {
   "cell_type": "markdown",
   "metadata": {},
   "source": [
    "### 8. CatBoost"
   ]
  },
  {
   "cell_type": "code",
   "execution_count": 33,
   "metadata": {},
   "outputs": [],
   "source": [
    "from catboost import CatBoostClassifier"
   ]
  },
  {
   "cell_type": "code",
   "execution_count": 34,
   "metadata": {
    "scrolled": true
   },
   "outputs": [
    {
     "name": "stdout",
     "output_type": "stream",
     "text": [
      "Learning rate set to 0.005621\n",
      "0:\tlearn: 0.6886278\ttotal: 699ms\tremaining: 11m 38s\n",
      "1:\tlearn: 0.6844685\ttotal: 701ms\tremaining: 5m 49s\n",
      "2:\tlearn: 0.6819700\ttotal: 702ms\tremaining: 3m 53s\n",
      "3:\tlearn: 0.6772224\ttotal: 703ms\tremaining: 2m 54s\n",
      "4:\tlearn: 0.6732903\ttotal: 703ms\tremaining: 2m 19s\n",
      "5:\tlearn: 0.6692836\ttotal: 704ms\tremaining: 1m 56s\n",
      "6:\tlearn: 0.6656804\ttotal: 705ms\tremaining: 1m 40s\n",
      "7:\tlearn: 0.6613679\ttotal: 706ms\tremaining: 1m 27s\n",
      "8:\tlearn: 0.6569540\ttotal: 707ms\tremaining: 1m 17s\n",
      "9:\tlearn: 0.6522833\ttotal: 708ms\tremaining: 1m 10s\n",
      "10:\tlearn: 0.6488491\ttotal: 709ms\tremaining: 1m 3s\n",
      "11:\tlearn: 0.6446905\ttotal: 709ms\tremaining: 58.4s\n",
      "12:\tlearn: 0.6417641\ttotal: 710ms\tremaining: 53.9s\n",
      "13:\tlearn: 0.6372232\ttotal: 711ms\tremaining: 50.1s\n",
      "14:\tlearn: 0.6334522\ttotal: 712ms\tremaining: 46.8s\n",
      "15:\tlearn: 0.6293590\ttotal: 713ms\tremaining: 43.8s\n",
      "16:\tlearn: 0.6252374\ttotal: 714ms\tremaining: 41.3s\n",
      "17:\tlearn: 0.6219864\ttotal: 715ms\tremaining: 39s\n",
      "18:\tlearn: 0.6186689\ttotal: 715ms\tremaining: 36.9s\n",
      "19:\tlearn: 0.6149910\ttotal: 718ms\tremaining: 35.2s\n",
      "20:\tlearn: 0.6115610\ttotal: 719ms\tremaining: 33.5s\n",
      "21:\tlearn: 0.6086353\ttotal: 720ms\tremaining: 32s\n",
      "22:\tlearn: 0.6056680\ttotal: 721ms\tremaining: 30.6s\n",
      "23:\tlearn: 0.6024228\ttotal: 721ms\tremaining: 29.3s\n",
      "24:\tlearn: 0.5988198\ttotal: 722ms\tremaining: 28.2s\n",
      "25:\tlearn: 0.5954591\ttotal: 723ms\tremaining: 27.1s\n",
      "26:\tlearn: 0.5927248\ttotal: 724ms\tremaining: 26.1s\n",
      "27:\tlearn: 0.5892647\ttotal: 725ms\tremaining: 25.2s\n",
      "28:\tlearn: 0.5861154\ttotal: 726ms\tremaining: 24.3s\n",
      "29:\tlearn: 0.5823156\ttotal: 727ms\tremaining: 23.5s\n",
      "30:\tlearn: 0.5797145\ttotal: 728ms\tremaining: 22.7s\n",
      "31:\tlearn: 0.5770365\ttotal: 729ms\tremaining: 22s\n",
      "32:\tlearn: 0.5736149\ttotal: 730ms\tremaining: 21.4s\n",
      "33:\tlearn: 0.5705065\ttotal: 731ms\tremaining: 20.8s\n",
      "34:\tlearn: 0.5671773\ttotal: 732ms\tremaining: 20.2s\n",
      "35:\tlearn: 0.5639640\ttotal: 733ms\tremaining: 19.6s\n",
      "36:\tlearn: 0.5609349\ttotal: 734ms\tremaining: 19.1s\n",
      "37:\tlearn: 0.5579670\ttotal: 735ms\tremaining: 18.6s\n",
      "38:\tlearn: 0.5546999\ttotal: 736ms\tremaining: 18.1s\n",
      "39:\tlearn: 0.5516960\ttotal: 737ms\tremaining: 17.7s\n",
      "40:\tlearn: 0.5483587\ttotal: 738ms\tremaining: 17.3s\n",
      "41:\tlearn: 0.5459761\ttotal: 739ms\tremaining: 16.9s\n",
      "42:\tlearn: 0.5425631\ttotal: 740ms\tremaining: 16.5s\n",
      "43:\tlearn: 0.5394147\ttotal: 741ms\tremaining: 16.1s\n",
      "44:\tlearn: 0.5372289\ttotal: 741ms\tremaining: 15.7s\n",
      "45:\tlearn: 0.5347910\ttotal: 742ms\tremaining: 15.4s\n",
      "46:\tlearn: 0.5325390\ttotal: 743ms\tremaining: 15.1s\n",
      "47:\tlearn: 0.5307770\ttotal: 744ms\tremaining: 14.8s\n",
      "48:\tlearn: 0.5278343\ttotal: 745ms\tremaining: 14.5s\n",
      "49:\tlearn: 0.5256373\ttotal: 747ms\tremaining: 14.2s\n",
      "50:\tlearn: 0.5231601\ttotal: 747ms\tremaining: 13.9s\n",
      "51:\tlearn: 0.5207251\ttotal: 748ms\tremaining: 13.6s\n",
      "52:\tlearn: 0.5181722\ttotal: 749ms\tremaining: 13.4s\n",
      "53:\tlearn: 0.5152435\ttotal: 750ms\tremaining: 13.1s\n",
      "54:\tlearn: 0.5124351\ttotal: 751ms\tremaining: 12.9s\n",
      "55:\tlearn: 0.5096820\ttotal: 752ms\tremaining: 12.7s\n",
      "56:\tlearn: 0.5077806\ttotal: 753ms\tremaining: 12.4s\n",
      "57:\tlearn: 0.5055584\ttotal: 753ms\tremaining: 12.2s\n",
      "58:\tlearn: 0.5034020\ttotal: 754ms\tremaining: 12s\n",
      "59:\tlearn: 0.5007490\ttotal: 755ms\tremaining: 11.8s\n",
      "60:\tlearn: 0.4983474\ttotal: 756ms\tremaining: 11.6s\n",
      "61:\tlearn: 0.4966679\ttotal: 757ms\tremaining: 11.5s\n",
      "62:\tlearn: 0.4941659\ttotal: 758ms\tremaining: 11.3s\n",
      "63:\tlearn: 0.4923587\ttotal: 759ms\tremaining: 11.1s\n",
      "64:\tlearn: 0.4894952\ttotal: 760ms\tremaining: 10.9s\n",
      "65:\tlearn: 0.4870996\ttotal: 761ms\tremaining: 10.8s\n",
      "66:\tlearn: 0.4861564\ttotal: 761ms\tremaining: 10.6s\n",
      "67:\tlearn: 0.4837901\ttotal: 762ms\tremaining: 10.4s\n",
      "68:\tlearn: 0.4816797\ttotal: 763ms\tremaining: 10.3s\n",
      "69:\tlearn: 0.4789470\ttotal: 764ms\tremaining: 10.1s\n",
      "70:\tlearn: 0.4767255\ttotal: 765ms\tremaining: 10s\n",
      "71:\tlearn: 0.4748744\ttotal: 766ms\tremaining: 9.87s\n",
      "72:\tlearn: 0.4719848\ttotal: 766ms\tremaining: 9.73s\n",
      "73:\tlearn: 0.4700116\ttotal: 767ms\tremaining: 9.6s\n",
      "74:\tlearn: 0.4678282\ttotal: 768ms\tremaining: 9.47s\n",
      "75:\tlearn: 0.4660406\ttotal: 769ms\tremaining: 9.35s\n",
      "76:\tlearn: 0.4635635\ttotal: 770ms\tremaining: 9.23s\n",
      "77:\tlearn: 0.4619633\ttotal: 771ms\tremaining: 9.12s\n",
      "78:\tlearn: 0.4598797\ttotal: 772ms\tremaining: 9s\n",
      "79:\tlearn: 0.4578425\ttotal: 773ms\tremaining: 8.89s\n",
      "80:\tlearn: 0.4554718\ttotal: 774ms\tremaining: 8.78s\n",
      "81:\tlearn: 0.4532810\ttotal: 775ms\tremaining: 8.67s\n",
      "82:\tlearn: 0.4512623\ttotal: 776ms\tremaining: 8.57s\n",
      "83:\tlearn: 0.4498765\ttotal: 777ms\tremaining: 8.47s\n",
      "84:\tlearn: 0.4481224\ttotal: 778ms\tremaining: 8.37s\n",
      "85:\tlearn: 0.4459989\ttotal: 779ms\tremaining: 8.27s\n",
      "86:\tlearn: 0.4446715\ttotal: 779ms\tremaining: 8.18s\n",
      "87:\tlearn: 0.4430557\ttotal: 780ms\tremaining: 8.08s\n",
      "88:\tlearn: 0.4412698\ttotal: 781ms\tremaining: 7.99s\n",
      "89:\tlearn: 0.4395565\ttotal: 783ms\tremaining: 7.92s\n",
      "90:\tlearn: 0.4377751\ttotal: 785ms\tremaining: 7.84s\n",
      "91:\tlearn: 0.4357842\ttotal: 786ms\tremaining: 7.75s\n",
      "92:\tlearn: 0.4350461\ttotal: 786ms\tremaining: 7.67s\n",
      "93:\tlearn: 0.4332441\ttotal: 787ms\tremaining: 7.58s\n",
      "94:\tlearn: 0.4314493\ttotal: 788ms\tremaining: 7.51s\n",
      "95:\tlearn: 0.4293861\ttotal: 789ms\tremaining: 7.43s\n",
      "96:\tlearn: 0.4272100\ttotal: 790ms\tremaining: 7.35s\n",
      "97:\tlearn: 0.4257536\ttotal: 791ms\tremaining: 7.28s\n",
      "98:\tlearn: 0.4243917\ttotal: 792ms\tremaining: 7.21s\n",
      "99:\tlearn: 0.4234561\ttotal: 793ms\tremaining: 7.14s\n",
      "100:\tlearn: 0.4224076\ttotal: 795ms\tremaining: 7.07s\n",
      "101:\tlearn: 0.4209318\ttotal: 796ms\tremaining: 7s\n",
      "102:\tlearn: 0.4196312\ttotal: 796ms\tremaining: 6.94s\n",
      "103:\tlearn: 0.4180403\ttotal: 797ms\tremaining: 6.87s\n",
      "104:\tlearn: 0.4170478\ttotal: 798ms\tremaining: 6.8s\n",
      "105:\tlearn: 0.4152115\ttotal: 799ms\tremaining: 6.74s\n",
      "106:\tlearn: 0.4132834\ttotal: 801ms\tremaining: 6.68s\n",
      "107:\tlearn: 0.4119595\ttotal: 802ms\tremaining: 6.62s\n",
      "108:\tlearn: 0.4103176\ttotal: 803ms\tremaining: 6.56s\n",
      "109:\tlearn: 0.4087387\ttotal: 804ms\tremaining: 6.5s\n",
      "110:\tlearn: 0.4069708\ttotal: 805ms\tremaining: 6.45s\n",
      "111:\tlearn: 0.4062764\ttotal: 806ms\tremaining: 6.39s\n",
      "112:\tlearn: 0.4049673\ttotal: 807ms\tremaining: 6.33s\n",
      "113:\tlearn: 0.4036408\ttotal: 808ms\tremaining: 6.28s\n",
      "114:\tlearn: 0.4022631\ttotal: 809ms\tremaining: 6.22s\n",
      "115:\tlearn: 0.4004306\ttotal: 809ms\tremaining: 6.17s\n",
      "116:\tlearn: 0.3992512\ttotal: 810ms\tremaining: 6.11s\n",
      "117:\tlearn: 0.3979392\ttotal: 811ms\tremaining: 6.06s\n",
      "118:\tlearn: 0.3966793\ttotal: 812ms\tremaining: 6.01s\n",
      "119:\tlearn: 0.3963441\ttotal: 813ms\tremaining: 5.96s\n",
      "120:\tlearn: 0.3949773\ttotal: 814ms\tremaining: 5.91s\n",
      "121:\tlearn: 0.3935362\ttotal: 814ms\tremaining: 5.86s\n",
      "122:\tlearn: 0.3921953\ttotal: 815ms\tremaining: 5.81s\n",
      "123:\tlearn: 0.3906222\ttotal: 816ms\tremaining: 5.76s\n",
      "124:\tlearn: 0.3895654\ttotal: 817ms\tremaining: 5.72s\n",
      "125:\tlearn: 0.3885163\ttotal: 818ms\tremaining: 5.67s\n",
      "126:\tlearn: 0.3871355\ttotal: 819ms\tremaining: 5.63s\n",
      "127:\tlearn: 0.3858310\ttotal: 820ms\tremaining: 5.58s\n",
      "128:\tlearn: 0.3842413\ttotal: 821ms\tremaining: 5.54s\n",
      "129:\tlearn: 0.3827301\ttotal: 822ms\tremaining: 5.5s\n",
      "130:\tlearn: 0.3812497\ttotal: 823ms\tremaining: 5.46s\n",
      "131:\tlearn: 0.3805733\ttotal: 824ms\tremaining: 5.42s\n",
      "132:\tlearn: 0.3792422\ttotal: 825ms\tremaining: 5.38s\n",
      "133:\tlearn: 0.3779425\ttotal: 826ms\tremaining: 5.34s\n",
      "134:\tlearn: 0.3764046\ttotal: 827ms\tremaining: 5.3s\n",
      "135:\tlearn: 0.3759601\ttotal: 828ms\tremaining: 5.26s\n",
      "136:\tlearn: 0.3751674\ttotal: 829ms\tremaining: 5.22s\n",
      "137:\tlearn: 0.3736686\ttotal: 830ms\tremaining: 5.18s\n",
      "138:\tlearn: 0.3722509\ttotal: 831ms\tremaining: 5.15s\n",
      "139:\tlearn: 0.3716188\ttotal: 832ms\tremaining: 5.11s\n",
      "140:\tlearn: 0.3703363\ttotal: 833ms\tremaining: 5.08s\n",
      "141:\tlearn: 0.3691520\ttotal: 834ms\tremaining: 5.04s\n",
      "142:\tlearn: 0.3681310\ttotal: 835ms\tremaining: 5.01s\n",
      "143:\tlearn: 0.3669014\ttotal: 837ms\tremaining: 4.97s\n",
      "144:\tlearn: 0.3657486\ttotal: 838ms\tremaining: 4.94s\n",
      "145:\tlearn: 0.3645433\ttotal: 840ms\tremaining: 4.91s\n",
      "146:\tlearn: 0.3633582\ttotal: 843ms\tremaining: 4.89s\n",
      "147:\tlearn: 0.3621351\ttotal: 844ms\tremaining: 4.86s\n",
      "148:\tlearn: 0.3609544\ttotal: 845ms\tremaining: 4.83s\n",
      "149:\tlearn: 0.3598901\ttotal: 846ms\tremaining: 4.79s\n",
      "150:\tlearn: 0.3590981\ttotal: 847ms\tremaining: 4.76s\n",
      "151:\tlearn: 0.3578415\ttotal: 848ms\tremaining: 4.73s\n",
      "152:\tlearn: 0.3568904\ttotal: 849ms\tremaining: 4.7s\n",
      "153:\tlearn: 0.3557395\ttotal: 850ms\tremaining: 4.67s\n",
      "154:\tlearn: 0.3546854\ttotal: 851ms\tremaining: 4.64s\n",
      "155:\tlearn: 0.3535851\ttotal: 852ms\tremaining: 4.61s\n",
      "156:\tlearn: 0.3524855\ttotal: 853ms\tremaining: 4.58s\n",
      "157:\tlearn: 0.3515306\ttotal: 854ms\tremaining: 4.55s\n",
      "158:\tlearn: 0.3502661\ttotal: 855ms\tremaining: 4.52s\n",
      "159:\tlearn: 0.3491206\ttotal: 856ms\tremaining: 4.49s\n",
      "160:\tlearn: 0.3482029\ttotal: 857ms\tremaining: 4.47s\n",
      "161:\tlearn: 0.3469867\ttotal: 858ms\tremaining: 4.44s\n",
      "162:\tlearn: 0.3460754\ttotal: 859ms\tremaining: 4.41s\n",
      "163:\tlearn: 0.3448617\ttotal: 860ms\tremaining: 4.38s\n",
      "164:\tlearn: 0.3444647\ttotal: 861ms\tremaining: 4.36s\n",
      "165:\tlearn: 0.3434164\ttotal: 862ms\tremaining: 4.33s\n",
      "166:\tlearn: 0.3424327\ttotal: 863ms\tremaining: 4.3s\n",
      "167:\tlearn: 0.3413630\ttotal: 864ms\tremaining: 4.28s\n",
      "168:\tlearn: 0.3403508\ttotal: 865ms\tremaining: 4.25s\n",
      "169:\tlearn: 0.3393324\ttotal: 866ms\tremaining: 4.23s\n",
      "170:\tlearn: 0.3382547\ttotal: 868ms\tremaining: 4.21s\n",
      "171:\tlearn: 0.3370587\ttotal: 869ms\tremaining: 4.18s\n",
      "172:\tlearn: 0.3362438\ttotal: 870ms\tremaining: 4.16s\n",
      "173:\tlearn: 0.3352079\ttotal: 872ms\tremaining: 4.14s\n",
      "174:\tlearn: 0.3343461\ttotal: 873ms\tremaining: 4.11s\n",
      "175:\tlearn: 0.3332458\ttotal: 874ms\tremaining: 4.09s\n",
      "176:\tlearn: 0.3324269\ttotal: 875ms\tremaining: 4.07s\n",
      "177:\tlearn: 0.3313981\ttotal: 876ms\tremaining: 4.04s\n",
      "178:\tlearn: 0.3305747\ttotal: 876ms\tremaining: 4.02s\n",
      "179:\tlearn: 0.3301722\ttotal: 877ms\tremaining: 4s\n",
      "180:\tlearn: 0.3291936\ttotal: 878ms\tremaining: 3.97s\n",
      "181:\tlearn: 0.3288945\ttotal: 878ms\tremaining: 3.95s\n"
     ]
    },
    {
     "name": "stdout",
     "output_type": "stream",
     "text": [
      "182:\tlearn: 0.3277333\ttotal: 881ms\tremaining: 3.93s\n",
      "183:\tlearn: 0.3275192\ttotal: 882ms\tremaining: 3.91s\n",
      "184:\tlearn: 0.3267895\ttotal: 885ms\tremaining: 3.9s\n",
      "185:\tlearn: 0.3259120\ttotal: 886ms\tremaining: 3.88s\n",
      "186:\tlearn: 0.3254320\ttotal: 888ms\tremaining: 3.86s\n",
      "187:\tlearn: 0.3246637\ttotal: 889ms\tremaining: 3.84s\n",
      "188:\tlearn: 0.3238461\ttotal: 890ms\tremaining: 3.82s\n",
      "189:\tlearn: 0.3227572\ttotal: 891ms\tremaining: 3.8s\n",
      "190:\tlearn: 0.3217452\ttotal: 892ms\tremaining: 3.78s\n",
      "191:\tlearn: 0.3210605\ttotal: 893ms\tremaining: 3.76s\n",
      "192:\tlearn: 0.3201282\ttotal: 895ms\tremaining: 3.74s\n",
      "193:\tlearn: 0.3191576\ttotal: 896ms\tremaining: 3.72s\n",
      "194:\tlearn: 0.3186310\ttotal: 897ms\tremaining: 3.7s\n",
      "195:\tlearn: 0.3178486\ttotal: 898ms\tremaining: 3.68s\n",
      "196:\tlearn: 0.3169084\ttotal: 899ms\tremaining: 3.66s\n",
      "197:\tlearn: 0.3160935\ttotal: 900ms\tremaining: 3.65s\n",
      "198:\tlearn: 0.3151517\ttotal: 901ms\tremaining: 3.63s\n",
      "199:\tlearn: 0.3140582\ttotal: 902ms\tremaining: 3.61s\n",
      "200:\tlearn: 0.3131553\ttotal: 903ms\tremaining: 3.59s\n",
      "201:\tlearn: 0.3124578\ttotal: 904ms\tremaining: 3.57s\n",
      "202:\tlearn: 0.3121233\ttotal: 905ms\tremaining: 3.55s\n",
      "203:\tlearn: 0.3111053\ttotal: 906ms\tremaining: 3.54s\n",
      "204:\tlearn: 0.3103688\ttotal: 907ms\tremaining: 3.52s\n",
      "205:\tlearn: 0.3092607\ttotal: 910ms\tremaining: 3.51s\n",
      "206:\tlearn: 0.3084300\ttotal: 912ms\tremaining: 3.49s\n",
      "207:\tlearn: 0.3077262\ttotal: 915ms\tremaining: 3.48s\n",
      "208:\tlearn: 0.3073406\ttotal: 917ms\tremaining: 3.47s\n",
      "209:\tlearn: 0.3065278\ttotal: 921ms\tremaining: 3.46s\n",
      "210:\tlearn: 0.3056319\ttotal: 922ms\tremaining: 3.45s\n",
      "211:\tlearn: 0.3047553\ttotal: 923ms\tremaining: 3.43s\n",
      "212:\tlearn: 0.3038700\ttotal: 924ms\tremaining: 3.41s\n",
      "213:\tlearn: 0.3028887\ttotal: 925ms\tremaining: 3.4s\n",
      "214:\tlearn: 0.3024306\ttotal: 926ms\tremaining: 3.38s\n",
      "215:\tlearn: 0.3015189\ttotal: 927ms\tremaining: 3.36s\n",
      "216:\tlearn: 0.3008376\ttotal: 934ms\tremaining: 3.37s\n",
      "217:\tlearn: 0.3002917\ttotal: 936ms\tremaining: 3.36s\n",
      "218:\tlearn: 0.2992099\ttotal: 937ms\tremaining: 3.34s\n",
      "219:\tlearn: 0.2985988\ttotal: 938ms\tremaining: 3.33s\n",
      "220:\tlearn: 0.2980474\ttotal: 939ms\tremaining: 3.31s\n",
      "221:\tlearn: 0.2972115\ttotal: 940ms\tremaining: 3.29s\n",
      "222:\tlearn: 0.2965563\ttotal: 942ms\tremaining: 3.28s\n",
      "223:\tlearn: 0.2958432\ttotal: 943ms\tremaining: 3.27s\n",
      "224:\tlearn: 0.2952847\ttotal: 947ms\tremaining: 3.26s\n",
      "225:\tlearn: 0.2947340\ttotal: 948ms\tremaining: 3.25s\n",
      "226:\tlearn: 0.2940729\ttotal: 949ms\tremaining: 3.23s\n",
      "227:\tlearn: 0.2933453\ttotal: 950ms\tremaining: 3.21s\n",
      "228:\tlearn: 0.2927153\ttotal: 950ms\tremaining: 3.2s\n",
      "229:\tlearn: 0.2920093\ttotal: 951ms\tremaining: 3.18s\n",
      "230:\tlearn: 0.2913944\ttotal: 952ms\tremaining: 3.17s\n",
      "231:\tlearn: 0.2907668\ttotal: 954ms\tremaining: 3.16s\n",
      "232:\tlearn: 0.2898765\ttotal: 955ms\tremaining: 3.14s\n",
      "233:\tlearn: 0.2891874\ttotal: 956ms\tremaining: 3.13s\n",
      "234:\tlearn: 0.2885133\ttotal: 957ms\tremaining: 3.12s\n",
      "235:\tlearn: 0.2879126\ttotal: 958ms\tremaining: 3.1s\n",
      "236:\tlearn: 0.2873327\ttotal: 959ms\tremaining: 3.09s\n",
      "237:\tlearn: 0.2867353\ttotal: 961ms\tremaining: 3.08s\n",
      "238:\tlearn: 0.2860266\ttotal: 962ms\tremaining: 3.06s\n",
      "239:\tlearn: 0.2852395\ttotal: 963ms\tremaining: 3.05s\n",
      "240:\tlearn: 0.2845598\ttotal: 964ms\tremaining: 3.04s\n",
      "241:\tlearn: 0.2839763\ttotal: 965ms\tremaining: 3.02s\n",
      "242:\tlearn: 0.2833510\ttotal: 966ms\tremaining: 3.01s\n",
      "243:\tlearn: 0.2829782\ttotal: 966ms\tremaining: 2.99s\n",
      "244:\tlearn: 0.2826427\ttotal: 967ms\tremaining: 2.98s\n",
      "245:\tlearn: 0.2822596\ttotal: 968ms\tremaining: 2.97s\n",
      "246:\tlearn: 0.2816497\ttotal: 969ms\tremaining: 2.95s\n",
      "247:\tlearn: 0.2811470\ttotal: 970ms\tremaining: 2.94s\n",
      "248:\tlearn: 0.2808004\ttotal: 971ms\tremaining: 2.93s\n",
      "249:\tlearn: 0.2799872\ttotal: 972ms\tremaining: 2.91s\n",
      "250:\tlearn: 0.2793354\ttotal: 973ms\tremaining: 2.9s\n",
      "251:\tlearn: 0.2787416\ttotal: 974ms\tremaining: 2.89s\n",
      "252:\tlearn: 0.2779879\ttotal: 975ms\tremaining: 2.88s\n",
      "253:\tlearn: 0.2773167\ttotal: 975ms\tremaining: 2.86s\n",
      "254:\tlearn: 0.2766688\ttotal: 976ms\tremaining: 2.85s\n",
      "255:\tlearn: 0.2759306\ttotal: 977ms\tremaining: 2.84s\n",
      "256:\tlearn: 0.2750845\ttotal: 978ms\tremaining: 2.83s\n",
      "257:\tlearn: 0.2744560\ttotal: 979ms\tremaining: 2.81s\n",
      "258:\tlearn: 0.2737776\ttotal: 980ms\tremaining: 2.8s\n",
      "259:\tlearn: 0.2731361\ttotal: 981ms\tremaining: 2.79s\n",
      "260:\tlearn: 0.2725626\ttotal: 982ms\tremaining: 2.78s\n",
      "261:\tlearn: 0.2718476\ttotal: 982ms\tremaining: 2.77s\n",
      "262:\tlearn: 0.2713856\ttotal: 983ms\tremaining: 2.75s\n",
      "263:\tlearn: 0.2710712\ttotal: 984ms\tremaining: 2.74s\n",
      "264:\tlearn: 0.2703949\ttotal: 985ms\tremaining: 2.73s\n",
      "265:\tlearn: 0.2699632\ttotal: 986ms\tremaining: 2.72s\n",
      "266:\tlearn: 0.2696030\ttotal: 987ms\tremaining: 2.71s\n",
      "267:\tlearn: 0.2688588\ttotal: 988ms\tremaining: 2.7s\n",
      "268:\tlearn: 0.2684146\ttotal: 988ms\tremaining: 2.69s\n",
      "269:\tlearn: 0.2680277\ttotal: 989ms\tremaining: 2.67s\n",
      "270:\tlearn: 0.2674733\ttotal: 990ms\tremaining: 2.66s\n",
      "271:\tlearn: 0.2669375\ttotal: 991ms\tremaining: 2.65s\n",
      "272:\tlearn: 0.2664569\ttotal: 992ms\tremaining: 2.64s\n",
      "273:\tlearn: 0.2658710\ttotal: 994ms\tremaining: 2.63s\n",
      "274:\tlearn: 0.2651371\ttotal: 995ms\tremaining: 2.62s\n",
      "275:\tlearn: 0.2646242\ttotal: 995ms\tremaining: 2.61s\n",
      "276:\tlearn: 0.2641403\ttotal: 996ms\tremaining: 2.6s\n",
      "277:\tlearn: 0.2634816\ttotal: 997ms\tremaining: 2.59s\n",
      "278:\tlearn: 0.2627208\ttotal: 998ms\tremaining: 2.58s\n",
      "279:\tlearn: 0.2620874\ttotal: 999ms\tremaining: 2.57s\n",
      "280:\tlearn: 0.2615367\ttotal: 1000ms\tremaining: 2.56s\n",
      "281:\tlearn: 0.2609356\ttotal: 1s\tremaining: 2.55s\n",
      "282:\tlearn: 0.2605448\ttotal: 1s\tremaining: 2.54s\n",
      "283:\tlearn: 0.2600473\ttotal: 1s\tremaining: 2.53s\n",
      "284:\tlearn: 0.2593205\ttotal: 1s\tremaining: 2.52s\n",
      "285:\tlearn: 0.2589286\ttotal: 1s\tremaining: 2.51s\n",
      "286:\tlearn: 0.2582312\ttotal: 1s\tremaining: 2.5s\n",
      "287:\tlearn: 0.2574362\ttotal: 1.01s\tremaining: 2.49s\n",
      "288:\tlearn: 0.2570382\ttotal: 1.01s\tremaining: 2.48s\n",
      "289:\tlearn: 0.2565897\ttotal: 1.01s\tremaining: 2.47s\n",
      "290:\tlearn: 0.2562831\ttotal: 1.01s\tremaining: 2.46s\n",
      "291:\tlearn: 0.2559791\ttotal: 1.01s\tremaining: 2.45s\n",
      "292:\tlearn: 0.2555386\ttotal: 1.01s\tremaining: 2.44s\n",
      "293:\tlearn: 0.2549430\ttotal: 1.01s\tremaining: 2.43s\n",
      "294:\tlearn: 0.2546978\ttotal: 1.01s\tremaining: 2.42s\n",
      "295:\tlearn: 0.2543109\ttotal: 1.01s\tremaining: 2.41s\n",
      "296:\tlearn: 0.2537800\ttotal: 1.01s\tremaining: 2.4s\n",
      "297:\tlearn: 0.2533877\ttotal: 1.01s\tremaining: 2.39s\n",
      "298:\tlearn: 0.2529002\ttotal: 1.01s\tremaining: 2.38s\n",
      "299:\tlearn: 0.2525876\ttotal: 1.02s\tremaining: 2.37s\n",
      "300:\tlearn: 0.2520415\ttotal: 1.02s\tremaining: 2.36s\n",
      "301:\tlearn: 0.2512601\ttotal: 1.02s\tremaining: 2.35s\n",
      "302:\tlearn: 0.2505997\ttotal: 1.02s\tremaining: 2.34s\n",
      "303:\tlearn: 0.2500819\ttotal: 1.02s\tremaining: 2.33s\n",
      "304:\tlearn: 0.2494437\ttotal: 1.02s\tremaining: 2.33s\n",
      "305:\tlearn: 0.2489263\ttotal: 1.02s\tremaining: 2.32s\n",
      "306:\tlearn: 0.2484358\ttotal: 1.02s\tremaining: 2.31s\n",
      "307:\tlearn: 0.2481257\ttotal: 1.02s\tremaining: 2.3s\n",
      "308:\tlearn: 0.2476130\ttotal: 1.02s\tremaining: 2.29s\n",
      "309:\tlearn: 0.2471335\ttotal: 1.02s\tremaining: 2.28s\n",
      "310:\tlearn: 0.2466847\ttotal: 1.02s\tremaining: 2.27s\n",
      "311:\tlearn: 0.2462405\ttotal: 1.03s\tremaining: 2.26s\n",
      "312:\tlearn: 0.2456563\ttotal: 1.03s\tremaining: 2.25s\n",
      "313:\tlearn: 0.2453256\ttotal: 1.03s\tremaining: 2.25s\n",
      "314:\tlearn: 0.2446439\ttotal: 1.03s\tremaining: 2.24s\n",
      "315:\tlearn: 0.2443595\ttotal: 1.03s\tremaining: 2.23s\n",
      "316:\tlearn: 0.2440876\ttotal: 1.03s\tremaining: 2.22s\n",
      "317:\tlearn: 0.2437125\ttotal: 1.03s\tremaining: 2.21s\n",
      "318:\tlearn: 0.2432505\ttotal: 1.03s\tremaining: 2.2s\n",
      "319:\tlearn: 0.2429394\ttotal: 1.03s\tremaining: 2.19s\n",
      "320:\tlearn: 0.2423408\ttotal: 1.03s\tremaining: 2.19s\n",
      "321:\tlearn: 0.2417003\ttotal: 1.03s\tremaining: 2.18s\n",
      "322:\tlearn: 0.2412365\ttotal: 1.03s\tremaining: 2.17s\n",
      "323:\tlearn: 0.2407488\ttotal: 1.04s\tremaining: 2.16s\n",
      "324:\tlearn: 0.2402866\ttotal: 1.04s\tremaining: 2.15s\n",
      "325:\tlearn: 0.2397970\ttotal: 1.04s\tremaining: 2.15s\n",
      "326:\tlearn: 0.2394786\ttotal: 1.04s\tremaining: 2.14s\n",
      "327:\tlearn: 0.2390618\ttotal: 1.04s\tremaining: 2.13s\n",
      "328:\tlearn: 0.2385987\ttotal: 1.04s\tremaining: 2.12s\n",
      "329:\tlearn: 0.2380058\ttotal: 1.04s\tremaining: 2.12s\n",
      "330:\tlearn: 0.2377023\ttotal: 1.04s\tremaining: 2.11s\n",
      "331:\tlearn: 0.2371775\ttotal: 1.04s\tremaining: 2.1s\n",
      "332:\tlearn: 0.2367791\ttotal: 1.04s\tremaining: 2.09s\n",
      "333:\tlearn: 0.2365355\ttotal: 1.04s\tremaining: 2.08s\n",
      "334:\tlearn: 0.2359286\ttotal: 1.05s\tremaining: 2.08s\n",
      "335:\tlearn: 0.2354330\ttotal: 1.05s\tremaining: 2.07s\n",
      "336:\tlearn: 0.2350664\ttotal: 1.05s\tremaining: 2.06s\n",
      "337:\tlearn: 0.2346052\ttotal: 1.05s\tremaining: 2.05s\n",
      "338:\tlearn: 0.2344474\ttotal: 1.05s\tremaining: 2.05s\n",
      "339:\tlearn: 0.2338730\ttotal: 1.05s\tremaining: 2.04s\n",
      "340:\tlearn: 0.2336000\ttotal: 1.05s\tremaining: 2.03s\n",
      "341:\tlearn: 0.2331581\ttotal: 1.05s\tremaining: 2.02s\n",
      "342:\tlearn: 0.2324476\ttotal: 1.05s\tremaining: 2.02s\n",
      "343:\tlearn: 0.2321344\ttotal: 1.05s\tremaining: 2.01s\n",
      "344:\tlearn: 0.2316585\ttotal: 1.05s\tremaining: 2s\n",
      "345:\tlearn: 0.2312420\ttotal: 1.05s\tremaining: 2s\n",
      "346:\tlearn: 0.2307315\ttotal: 1.06s\tremaining: 1.99s\n",
      "347:\tlearn: 0.2300556\ttotal: 1.06s\tremaining: 1.98s\n",
      "348:\tlearn: 0.2294621\ttotal: 1.06s\tremaining: 1.97s\n",
      "349:\tlearn: 0.2292573\ttotal: 1.06s\tremaining: 1.97s\n",
      "350:\tlearn: 0.2288623\ttotal: 1.06s\tremaining: 1.96s\n",
      "351:\tlearn: 0.2284724\ttotal: 1.06s\tremaining: 1.95s\n",
      "352:\tlearn: 0.2281962\ttotal: 1.06s\tremaining: 1.95s\n",
      "353:\tlearn: 0.2278153\ttotal: 1.06s\tremaining: 1.94s\n",
      "354:\tlearn: 0.2273631\ttotal: 1.06s\tremaining: 1.93s\n",
      "355:\tlearn: 0.2267647\ttotal: 1.06s\tremaining: 1.92s\n",
      "356:\tlearn: 0.2262640\ttotal: 1.06s\tremaining: 1.92s\n"
     ]
    },
    {
     "name": "stdout",
     "output_type": "stream",
     "text": [
      "357:\tlearn: 0.2259114\ttotal: 1.07s\tremaining: 1.91s\n",
      "358:\tlearn: 0.2257210\ttotal: 1.07s\tremaining: 1.91s\n",
      "359:\tlearn: 0.2254037\ttotal: 1.07s\tremaining: 1.9s\n",
      "360:\tlearn: 0.2250661\ttotal: 1.07s\tremaining: 1.89s\n",
      "361:\tlearn: 0.2248926\ttotal: 1.07s\tremaining: 1.89s\n",
      "362:\tlearn: 0.2244761\ttotal: 1.07s\tremaining: 1.88s\n",
      "363:\tlearn: 0.2241820\ttotal: 1.07s\tremaining: 1.87s\n",
      "364:\tlearn: 0.2239504\ttotal: 1.07s\tremaining: 1.87s\n",
      "365:\tlearn: 0.2236619\ttotal: 1.07s\tremaining: 1.86s\n",
      "366:\tlearn: 0.2232987\ttotal: 1.07s\tremaining: 1.85s\n",
      "367:\tlearn: 0.2230404\ttotal: 1.08s\tremaining: 1.85s\n",
      "368:\tlearn: 0.2226500\ttotal: 1.08s\tremaining: 1.84s\n",
      "369:\tlearn: 0.2221634\ttotal: 1.08s\tremaining: 1.84s\n",
      "370:\tlearn: 0.2216861\ttotal: 1.08s\tremaining: 1.83s\n",
      "371:\tlearn: 0.2211638\ttotal: 1.08s\tremaining: 1.82s\n",
      "372:\tlearn: 0.2206325\ttotal: 1.08s\tremaining: 1.82s\n",
      "373:\tlearn: 0.2201194\ttotal: 1.08s\tremaining: 1.81s\n",
      "374:\tlearn: 0.2196661\ttotal: 1.08s\tremaining: 1.81s\n",
      "375:\tlearn: 0.2194171\ttotal: 1.08s\tremaining: 1.8s\n",
      "376:\tlearn: 0.2190221\ttotal: 1.09s\tremaining: 1.79s\n",
      "377:\tlearn: 0.2186509\ttotal: 1.09s\tremaining: 1.79s\n",
      "378:\tlearn: 0.2183327\ttotal: 1.09s\tremaining: 1.78s\n",
      "379:\tlearn: 0.2180218\ttotal: 1.09s\tremaining: 1.78s\n",
      "380:\tlearn: 0.2177321\ttotal: 1.09s\tremaining: 1.77s\n",
      "381:\tlearn: 0.2174787\ttotal: 1.09s\tremaining: 1.77s\n",
      "382:\tlearn: 0.2172504\ttotal: 1.09s\tremaining: 1.76s\n",
      "383:\tlearn: 0.2167707\ttotal: 1.09s\tremaining: 1.75s\n",
      "384:\tlearn: 0.2165503\ttotal: 1.09s\tremaining: 1.75s\n",
      "385:\tlearn: 0.2161814\ttotal: 1.09s\tremaining: 1.74s\n",
      "386:\tlearn: 0.2157517\ttotal: 1.1s\tremaining: 1.74s\n",
      "387:\tlearn: 0.2154379\ttotal: 1.1s\tremaining: 1.73s\n",
      "388:\tlearn: 0.2151517\ttotal: 1.1s\tremaining: 1.73s\n",
      "389:\tlearn: 0.2149147\ttotal: 1.1s\tremaining: 1.72s\n",
      "390:\tlearn: 0.2145773\ttotal: 1.1s\tremaining: 1.71s\n",
      "391:\tlearn: 0.2140635\ttotal: 1.1s\tremaining: 1.71s\n",
      "392:\tlearn: 0.2136693\ttotal: 1.1s\tremaining: 1.7s\n",
      "393:\tlearn: 0.2132502\ttotal: 1.1s\tremaining: 1.7s\n",
      "394:\tlearn: 0.2127440\ttotal: 1.1s\tremaining: 1.69s\n",
      "395:\tlearn: 0.2124157\ttotal: 1.1s\tremaining: 1.69s\n",
      "396:\tlearn: 0.2120920\ttotal: 1.11s\tremaining: 1.68s\n",
      "397:\tlearn: 0.2117926\ttotal: 1.11s\tremaining: 1.67s\n",
      "398:\tlearn: 0.2115747\ttotal: 1.11s\tremaining: 1.67s\n",
      "399:\tlearn: 0.2110982\ttotal: 1.11s\tremaining: 1.66s\n",
      "400:\tlearn: 0.2106515\ttotal: 1.11s\tremaining: 1.66s\n",
      "401:\tlearn: 0.2104480\ttotal: 1.11s\tremaining: 1.65s\n",
      "402:\tlearn: 0.2098247\ttotal: 1.11s\tremaining: 1.65s\n",
      "403:\tlearn: 0.2096048\ttotal: 1.11s\tremaining: 1.64s\n",
      "404:\tlearn: 0.2092250\ttotal: 1.11s\tremaining: 1.64s\n",
      "405:\tlearn: 0.2088172\ttotal: 1.11s\tremaining: 1.63s\n",
      "406:\tlearn: 0.2085304\ttotal: 1.11s\tremaining: 1.62s\n",
      "407:\tlearn: 0.2082004\ttotal: 1.12s\tremaining: 1.62s\n",
      "408:\tlearn: 0.2081304\ttotal: 1.12s\tremaining: 1.61s\n",
      "409:\tlearn: 0.2077525\ttotal: 1.12s\tremaining: 1.61s\n",
      "410:\tlearn: 0.2074946\ttotal: 1.12s\tremaining: 1.6s\n",
      "411:\tlearn: 0.2071168\ttotal: 1.12s\tremaining: 1.6s\n",
      "412:\tlearn: 0.2067876\ttotal: 1.12s\tremaining: 1.59s\n",
      "413:\tlearn: 0.2064171\ttotal: 1.12s\tremaining: 1.59s\n",
      "414:\tlearn: 0.2061022\ttotal: 1.12s\tremaining: 1.58s\n",
      "415:\tlearn: 0.2057619\ttotal: 1.12s\tremaining: 1.57s\n",
      "416:\tlearn: 0.2053407\ttotal: 1.12s\tremaining: 1.57s\n",
      "417:\tlearn: 0.2049728\ttotal: 1.12s\tremaining: 1.56s\n",
      "418:\tlearn: 0.2045172\ttotal: 1.13s\tremaining: 1.56s\n",
      "419:\tlearn: 0.2041061\ttotal: 1.13s\tremaining: 1.55s\n",
      "420:\tlearn: 0.2039103\ttotal: 1.13s\tremaining: 1.55s\n",
      "421:\tlearn: 0.2037148\ttotal: 1.13s\tremaining: 1.54s\n",
      "422:\tlearn: 0.2033602\ttotal: 1.13s\tremaining: 1.54s\n",
      "423:\tlearn: 0.2031122\ttotal: 1.13s\tremaining: 1.53s\n",
      "424:\tlearn: 0.2027287\ttotal: 1.13s\tremaining: 1.53s\n",
      "425:\tlearn: 0.2023056\ttotal: 1.13s\tremaining: 1.52s\n",
      "426:\tlearn: 0.2019607\ttotal: 1.13s\tremaining: 1.52s\n",
      "427:\tlearn: 0.2015810\ttotal: 1.13s\tremaining: 1.51s\n",
      "428:\tlearn: 0.2012863\ttotal: 1.13s\tremaining: 1.51s\n",
      "429:\tlearn: 0.2010890\ttotal: 1.13s\tremaining: 1.5s\n",
      "430:\tlearn: 0.2008658\ttotal: 1.14s\tremaining: 1.5s\n",
      "431:\tlearn: 0.2006382\ttotal: 1.14s\tremaining: 1.49s\n",
      "432:\tlearn: 0.2002998\ttotal: 1.14s\tremaining: 1.49s\n",
      "433:\tlearn: 0.1999813\ttotal: 1.14s\tremaining: 1.48s\n",
      "434:\tlearn: 0.1995348\ttotal: 1.14s\tremaining: 1.48s\n",
      "435:\tlearn: 0.1991894\ttotal: 1.14s\tremaining: 1.47s\n",
      "436:\tlearn: 0.1989286\ttotal: 1.14s\tremaining: 1.47s\n",
      "437:\tlearn: 0.1985434\ttotal: 1.14s\tremaining: 1.47s\n",
      "438:\tlearn: 0.1982293\ttotal: 1.14s\tremaining: 1.46s\n",
      "439:\tlearn: 0.1979821\ttotal: 1.14s\tremaining: 1.46s\n",
      "440:\tlearn: 0.1977615\ttotal: 1.14s\tremaining: 1.45s\n",
      "441:\tlearn: 0.1976329\ttotal: 1.15s\tremaining: 1.45s\n",
      "442:\tlearn: 0.1973053\ttotal: 1.15s\tremaining: 1.44s\n",
      "443:\tlearn: 0.1968584\ttotal: 1.15s\tremaining: 1.44s\n",
      "444:\tlearn: 0.1965078\ttotal: 1.15s\tremaining: 1.43s\n",
      "445:\tlearn: 0.1961248\ttotal: 1.15s\tremaining: 1.43s\n",
      "446:\tlearn: 0.1958641\ttotal: 1.15s\tremaining: 1.42s\n",
      "447:\tlearn: 0.1957065\ttotal: 1.15s\tremaining: 1.42s\n",
      "448:\tlearn: 0.1953802\ttotal: 1.15s\tremaining: 1.41s\n",
      "449:\tlearn: 0.1950687\ttotal: 1.15s\tremaining: 1.41s\n",
      "450:\tlearn: 0.1948860\ttotal: 1.15s\tremaining: 1.4s\n",
      "451:\tlearn: 0.1944423\ttotal: 1.15s\tremaining: 1.4s\n",
      "452:\tlearn: 0.1941723\ttotal: 1.16s\tremaining: 1.4s\n",
      "453:\tlearn: 0.1938606\ttotal: 1.16s\tremaining: 1.39s\n",
      "454:\tlearn: 0.1935869\ttotal: 1.16s\tremaining: 1.39s\n",
      "455:\tlearn: 0.1932703\ttotal: 1.16s\tremaining: 1.38s\n",
      "456:\tlearn: 0.1931196\ttotal: 1.16s\tremaining: 1.38s\n",
      "457:\tlearn: 0.1927348\ttotal: 1.16s\tremaining: 1.37s\n",
      "458:\tlearn: 0.1924939\ttotal: 1.16s\tremaining: 1.37s\n",
      "459:\tlearn: 0.1921295\ttotal: 1.16s\tremaining: 1.36s\n",
      "460:\tlearn: 0.1918591\ttotal: 1.16s\tremaining: 1.36s\n",
      "461:\tlearn: 0.1915690\ttotal: 1.16s\tremaining: 1.35s\n",
      "462:\tlearn: 0.1914091\ttotal: 1.16s\tremaining: 1.35s\n",
      "463:\tlearn: 0.1911893\ttotal: 1.17s\tremaining: 1.34s\n",
      "464:\tlearn: 0.1909712\ttotal: 1.17s\tremaining: 1.34s\n",
      "465:\tlearn: 0.1907473\ttotal: 1.17s\tremaining: 1.34s\n",
      "466:\tlearn: 0.1903896\ttotal: 1.17s\tremaining: 1.33s\n",
      "467:\tlearn: 0.1901039\ttotal: 1.17s\tremaining: 1.33s\n",
      "468:\tlearn: 0.1897122\ttotal: 1.17s\tremaining: 1.32s\n",
      "469:\tlearn: 0.1893146\ttotal: 1.17s\tremaining: 1.32s\n",
      "470:\tlearn: 0.1889994\ttotal: 1.17s\tremaining: 1.31s\n",
      "471:\tlearn: 0.1889797\ttotal: 1.17s\tremaining: 1.31s\n",
      "472:\tlearn: 0.1886728\ttotal: 1.17s\tremaining: 1.31s\n",
      "473:\tlearn: 0.1883745\ttotal: 1.17s\tremaining: 1.3s\n",
      "474:\tlearn: 0.1881032\ttotal: 1.17s\tremaining: 1.3s\n",
      "475:\tlearn: 0.1877365\ttotal: 1.18s\tremaining: 1.29s\n",
      "476:\tlearn: 0.1874029\ttotal: 1.18s\tremaining: 1.29s\n",
      "477:\tlearn: 0.1870434\ttotal: 1.18s\tremaining: 1.28s\n",
      "478:\tlearn: 0.1868138\ttotal: 1.18s\tremaining: 1.28s\n",
      "479:\tlearn: 0.1864864\ttotal: 1.18s\tremaining: 1.28s\n",
      "480:\tlearn: 0.1862396\ttotal: 1.18s\tremaining: 1.27s\n",
      "481:\tlearn: 0.1859552\ttotal: 1.18s\tremaining: 1.27s\n",
      "482:\tlearn: 0.1857778\ttotal: 1.18s\tremaining: 1.26s\n",
      "483:\tlearn: 0.1855140\ttotal: 1.18s\tremaining: 1.26s\n",
      "484:\tlearn: 0.1853344\ttotal: 1.18s\tremaining: 1.26s\n",
      "485:\tlearn: 0.1851013\ttotal: 1.18s\tremaining: 1.25s\n",
      "486:\tlearn: 0.1849518\ttotal: 1.18s\tremaining: 1.25s\n",
      "487:\tlearn: 0.1845579\ttotal: 1.19s\tremaining: 1.24s\n",
      "488:\tlearn: 0.1843161\ttotal: 1.19s\tremaining: 1.24s\n",
      "489:\tlearn: 0.1840351\ttotal: 1.19s\tremaining: 1.24s\n",
      "490:\tlearn: 0.1838292\ttotal: 1.19s\tremaining: 1.23s\n",
      "491:\tlearn: 0.1836449\ttotal: 1.19s\tremaining: 1.23s\n",
      "492:\tlearn: 0.1833227\ttotal: 1.19s\tremaining: 1.22s\n",
      "493:\tlearn: 0.1830194\ttotal: 1.19s\tremaining: 1.22s\n",
      "494:\tlearn: 0.1826918\ttotal: 1.19s\tremaining: 1.22s\n",
      "495:\tlearn: 0.1823377\ttotal: 1.19s\tremaining: 1.21s\n",
      "496:\tlearn: 0.1821724\ttotal: 1.19s\tremaining: 1.21s\n",
      "497:\tlearn: 0.1819177\ttotal: 1.19s\tremaining: 1.2s\n",
      "498:\tlearn: 0.1817298\ttotal: 1.19s\tremaining: 1.2s\n",
      "499:\tlearn: 0.1815208\ttotal: 1.2s\tremaining: 1.2s\n",
      "500:\tlearn: 0.1813440\ttotal: 1.2s\tremaining: 1.19s\n",
      "501:\tlearn: 0.1812465\ttotal: 1.2s\tremaining: 1.19s\n",
      "502:\tlearn: 0.1809116\ttotal: 1.2s\tremaining: 1.18s\n",
      "503:\tlearn: 0.1806431\ttotal: 1.2s\tremaining: 1.18s\n",
      "504:\tlearn: 0.1803635\ttotal: 1.2s\tremaining: 1.18s\n",
      "505:\tlearn: 0.1800646\ttotal: 1.2s\tremaining: 1.17s\n",
      "506:\tlearn: 0.1797390\ttotal: 1.2s\tremaining: 1.17s\n",
      "507:\tlearn: 0.1794832\ttotal: 1.2s\tremaining: 1.16s\n",
      "508:\tlearn: 0.1793546\ttotal: 1.2s\tremaining: 1.16s\n",
      "509:\tlearn: 0.1791364\ttotal: 1.2s\tremaining: 1.16s\n",
      "510:\tlearn: 0.1790023\ttotal: 1.2s\tremaining: 1.15s\n",
      "511:\tlearn: 0.1787384\ttotal: 1.21s\tremaining: 1.15s\n",
      "512:\tlearn: 0.1785187\ttotal: 1.21s\tremaining: 1.15s\n",
      "513:\tlearn: 0.1782113\ttotal: 1.21s\tremaining: 1.14s\n",
      "514:\tlearn: 0.1781461\ttotal: 1.21s\tremaining: 1.14s\n",
      "515:\tlearn: 0.1778986\ttotal: 1.21s\tremaining: 1.13s\n",
      "516:\tlearn: 0.1776208\ttotal: 1.21s\tremaining: 1.13s\n",
      "517:\tlearn: 0.1772674\ttotal: 1.21s\tremaining: 1.13s\n",
      "518:\tlearn: 0.1771828\ttotal: 1.21s\tremaining: 1.12s\n",
      "519:\tlearn: 0.1770180\ttotal: 1.21s\tremaining: 1.12s\n",
      "520:\tlearn: 0.1766437\ttotal: 1.21s\tremaining: 1.11s\n",
      "521:\tlearn: 0.1762736\ttotal: 1.21s\tremaining: 1.11s\n",
      "522:\tlearn: 0.1759615\ttotal: 1.21s\tremaining: 1.11s\n",
      "523:\tlearn: 0.1757337\ttotal: 1.22s\tremaining: 1.1s\n",
      "524:\tlearn: 0.1754794\ttotal: 1.22s\tremaining: 1.1s\n",
      "525:\tlearn: 0.1751747\ttotal: 1.22s\tremaining: 1.1s\n",
      "526:\tlearn: 0.1749782\ttotal: 1.22s\tremaining: 1.09s\n",
      "527:\tlearn: 0.1748366\ttotal: 1.22s\tremaining: 1.09s\n",
      "528:\tlearn: 0.1745727\ttotal: 1.22s\tremaining: 1.09s\n",
      "529:\tlearn: 0.1743826\ttotal: 1.22s\tremaining: 1.08s\n",
      "530:\tlearn: 0.1740630\ttotal: 1.22s\tremaining: 1.08s\n",
      "531:\tlearn: 0.1737659\ttotal: 1.22s\tremaining: 1.08s\n",
      "532:\tlearn: 0.1736016\ttotal: 1.22s\tremaining: 1.07s\n",
      "533:\tlearn: 0.1735543\ttotal: 1.22s\tremaining: 1.07s\n",
      "534:\tlearn: 0.1732897\ttotal: 1.23s\tremaining: 1.06s\n",
      "535:\tlearn: 0.1731862\ttotal: 1.23s\tremaining: 1.06s\n",
      "536:\tlearn: 0.1729479\ttotal: 1.23s\tremaining: 1.06s\n",
      "537:\tlearn: 0.1727601\ttotal: 1.23s\tremaining: 1.05s\n",
      "538:\tlearn: 0.1724400\ttotal: 1.23s\tremaining: 1.05s\n",
      "539:\tlearn: 0.1720810\ttotal: 1.23s\tremaining: 1.05s\n",
      "540:\tlearn: 0.1716894\ttotal: 1.23s\tremaining: 1.04s\n",
      "541:\tlearn: 0.1713312\ttotal: 1.23s\tremaining: 1.04s\n",
      "542:\tlearn: 0.1709685\ttotal: 1.23s\tremaining: 1.04s\n",
      "543:\tlearn: 0.1708544\ttotal: 1.23s\tremaining: 1.03s\n",
      "544:\tlearn: 0.1706915\ttotal: 1.23s\tremaining: 1.03s\n",
      "545:\tlearn: 0.1703082\ttotal: 1.23s\tremaining: 1.03s\n",
      "546:\tlearn: 0.1701314\ttotal: 1.24s\tremaining: 1.02s\n",
      "547:\tlearn: 0.1699031\ttotal: 1.24s\tremaining: 1.02s\n",
      "548:\tlearn: 0.1695830\ttotal: 1.24s\tremaining: 1.02s\n",
      "549:\tlearn: 0.1691536\ttotal: 1.24s\tremaining: 1.01s\n",
      "550:\tlearn: 0.1689521\ttotal: 1.24s\tremaining: 1.01s\n",
      "551:\tlearn: 0.1687740\ttotal: 1.24s\tremaining: 1.01s\n",
      "552:\tlearn: 0.1684981\ttotal: 1.24s\tremaining: 1s\n",
      "553:\tlearn: 0.1682468\ttotal: 1.24s\tremaining: 999ms\n",
      "554:\tlearn: 0.1680222\ttotal: 1.24s\tremaining: 996ms\n",
      "555:\tlearn: 0.1677964\ttotal: 1.24s\tremaining: 992ms\n",
      "556:\tlearn: 0.1674544\ttotal: 1.24s\tremaining: 989ms\n",
      "557:\tlearn: 0.1672351\ttotal: 1.24s\tremaining: 986ms\n",
      "558:\tlearn: 0.1670117\ttotal: 1.25s\tremaining: 982ms\n",
      "559:\tlearn: 0.1667990\ttotal: 1.25s\tremaining: 979ms\n",
      "560:\tlearn: 0.1665443\ttotal: 1.25s\tremaining: 976ms\n"
     ]
    },
    {
     "name": "stdout",
     "output_type": "stream",
     "text": [
      "561:\tlearn: 0.1662677\ttotal: 1.25s\tremaining: 973ms\n",
      "562:\tlearn: 0.1661022\ttotal: 1.25s\tremaining: 972ms\n",
      "563:\tlearn: 0.1659038\ttotal: 1.25s\tremaining: 969ms\n",
      "564:\tlearn: 0.1656784\ttotal: 1.25s\tremaining: 966ms\n",
      "565:\tlearn: 0.1653550\ttotal: 1.25s\tremaining: 963ms\n",
      "566:\tlearn: 0.1651088\ttotal: 1.26s\tremaining: 960ms\n",
      "567:\tlearn: 0.1649339\ttotal: 1.26s\tremaining: 957ms\n",
      "568:\tlearn: 0.1646808\ttotal: 1.26s\tremaining: 954ms\n",
      "569:\tlearn: 0.1645061\ttotal: 1.26s\tremaining: 950ms\n",
      "570:\tlearn: 0.1642712\ttotal: 1.26s\tremaining: 947ms\n",
      "571:\tlearn: 0.1641584\ttotal: 1.26s\tremaining: 944ms\n",
      "572:\tlearn: 0.1639337\ttotal: 1.26s\tremaining: 941ms\n",
      "573:\tlearn: 0.1637798\ttotal: 1.26s\tremaining: 938ms\n",
      "574:\tlearn: 0.1635635\ttotal: 1.26s\tremaining: 935ms\n",
      "575:\tlearn: 0.1633301\ttotal: 1.26s\tremaining: 932ms\n",
      "576:\tlearn: 0.1631390\ttotal: 1.27s\tremaining: 929ms\n",
      "577:\tlearn: 0.1629759\ttotal: 1.27s\tremaining: 926ms\n",
      "578:\tlearn: 0.1627474\ttotal: 1.27s\tremaining: 923ms\n",
      "579:\tlearn: 0.1626285\ttotal: 1.27s\tremaining: 920ms\n",
      "580:\tlearn: 0.1623062\ttotal: 1.27s\tremaining: 917ms\n",
      "581:\tlearn: 0.1620408\ttotal: 1.27s\tremaining: 914ms\n",
      "582:\tlearn: 0.1619170\ttotal: 1.27s\tremaining: 911ms\n",
      "583:\tlearn: 0.1617753\ttotal: 1.27s\tremaining: 908ms\n",
      "584:\tlearn: 0.1616712\ttotal: 1.27s\tremaining: 904ms\n",
      "585:\tlearn: 0.1614974\ttotal: 1.27s\tremaining: 901ms\n",
      "586:\tlearn: 0.1613852\ttotal: 1.28s\tremaining: 899ms\n",
      "587:\tlearn: 0.1612005\ttotal: 1.28s\tremaining: 896ms\n",
      "588:\tlearn: 0.1610971\ttotal: 1.28s\tremaining: 893ms\n",
      "589:\tlearn: 0.1609054\ttotal: 1.28s\tremaining: 890ms\n",
      "590:\tlearn: 0.1607612\ttotal: 1.28s\tremaining: 887ms\n",
      "591:\tlearn: 0.1606106\ttotal: 1.28s\tremaining: 884ms\n",
      "592:\tlearn: 0.1604402\ttotal: 1.28s\tremaining: 881ms\n",
      "593:\tlearn: 0.1601802\ttotal: 1.28s\tremaining: 878ms\n",
      "594:\tlearn: 0.1599381\ttotal: 1.28s\tremaining: 875ms\n",
      "595:\tlearn: 0.1597770\ttotal: 1.29s\tremaining: 872ms\n",
      "596:\tlearn: 0.1595619\ttotal: 1.29s\tremaining: 869ms\n",
      "597:\tlearn: 0.1593660\ttotal: 1.29s\tremaining: 866ms\n",
      "598:\tlearn: 0.1592363\ttotal: 1.29s\tremaining: 863ms\n",
      "599:\tlearn: 0.1589648\ttotal: 1.29s\tremaining: 860ms\n",
      "600:\tlearn: 0.1587198\ttotal: 1.29s\tremaining: 857ms\n",
      "601:\tlearn: 0.1585742\ttotal: 1.29s\tremaining: 854ms\n",
      "602:\tlearn: 0.1583578\ttotal: 1.29s\tremaining: 851ms\n",
      "603:\tlearn: 0.1580531\ttotal: 1.29s\tremaining: 848ms\n",
      "604:\tlearn: 0.1578362\ttotal: 1.29s\tremaining: 845ms\n",
      "605:\tlearn: 0.1575484\ttotal: 1.29s\tremaining: 842ms\n",
      "606:\tlearn: 0.1573054\ttotal: 1.3s\tremaining: 839ms\n",
      "607:\tlearn: 0.1570741\ttotal: 1.3s\tremaining: 836ms\n",
      "608:\tlearn: 0.1568290\ttotal: 1.3s\tremaining: 833ms\n",
      "609:\tlearn: 0.1566122\ttotal: 1.3s\tremaining: 831ms\n",
      "610:\tlearn: 0.1564012\ttotal: 1.3s\tremaining: 828ms\n",
      "611:\tlearn: 0.1561622\ttotal: 1.3s\tremaining: 825ms\n",
      "612:\tlearn: 0.1560429\ttotal: 1.3s\tremaining: 822ms\n",
      "613:\tlearn: 0.1557722\ttotal: 1.3s\tremaining: 819ms\n",
      "614:\tlearn: 0.1554705\ttotal: 1.3s\tremaining: 816ms\n",
      "615:\tlearn: 0.1551861\ttotal: 1.3s\tremaining: 813ms\n",
      "616:\tlearn: 0.1548771\ttotal: 1.3s\tremaining: 810ms\n",
      "617:\tlearn: 0.1546310\ttotal: 1.3s\tremaining: 807ms\n",
      "618:\tlearn: 0.1544408\ttotal: 1.31s\tremaining: 804ms\n",
      "619:\tlearn: 0.1543225\ttotal: 1.31s\tremaining: 801ms\n",
      "620:\tlearn: 0.1542313\ttotal: 1.31s\tremaining: 798ms\n",
      "621:\tlearn: 0.1539418\ttotal: 1.31s\tremaining: 796ms\n",
      "622:\tlearn: 0.1537097\ttotal: 1.31s\tremaining: 793ms\n",
      "623:\tlearn: 0.1534415\ttotal: 1.31s\tremaining: 790ms\n",
      "624:\tlearn: 0.1532967\ttotal: 1.31s\tremaining: 787ms\n",
      "625:\tlearn: 0.1531077\ttotal: 1.31s\tremaining: 785ms\n",
      "626:\tlearn: 0.1529419\ttotal: 1.31s\tremaining: 782ms\n",
      "627:\tlearn: 0.1526844\ttotal: 1.31s\tremaining: 779ms\n",
      "628:\tlearn: 0.1524864\ttotal: 1.32s\tremaining: 776ms\n",
      "629:\tlearn: 0.1523980\ttotal: 1.32s\tremaining: 773ms\n",
      "630:\tlearn: 0.1522358\ttotal: 1.32s\tremaining: 771ms\n",
      "631:\tlearn: 0.1519929\ttotal: 1.32s\tremaining: 768ms\n",
      "632:\tlearn: 0.1516864\ttotal: 1.32s\tremaining: 765ms\n",
      "633:\tlearn: 0.1514210\ttotal: 1.32s\tremaining: 762ms\n",
      "634:\tlearn: 0.1512148\ttotal: 1.32s\tremaining: 760ms\n",
      "635:\tlearn: 0.1510397\ttotal: 1.32s\tremaining: 757ms\n",
      "636:\tlearn: 0.1508503\ttotal: 1.32s\tremaining: 754ms\n",
      "637:\tlearn: 0.1506669\ttotal: 1.32s\tremaining: 751ms\n",
      "638:\tlearn: 0.1503475\ttotal: 1.32s\tremaining: 748ms\n",
      "639:\tlearn: 0.1502408\ttotal: 1.32s\tremaining: 746ms\n",
      "640:\tlearn: 0.1499214\ttotal: 1.33s\tremaining: 743ms\n",
      "641:\tlearn: 0.1497158\ttotal: 1.33s\tremaining: 740ms\n",
      "642:\tlearn: 0.1495618\ttotal: 1.33s\tremaining: 737ms\n",
      "643:\tlearn: 0.1494565\ttotal: 1.33s\tremaining: 735ms\n",
      "644:\tlearn: 0.1491621\ttotal: 1.33s\tremaining: 732ms\n",
      "645:\tlearn: 0.1489607\ttotal: 1.33s\tremaining: 729ms\n",
      "646:\tlearn: 0.1487972\ttotal: 1.33s\tremaining: 726ms\n",
      "647:\tlearn: 0.1485603\ttotal: 1.33s\tremaining: 724ms\n",
      "648:\tlearn: 0.1483751\ttotal: 1.33s\tremaining: 721ms\n",
      "649:\tlearn: 0.1481507\ttotal: 1.33s\tremaining: 718ms\n",
      "650:\tlearn: 0.1479003\ttotal: 1.33s\tremaining: 716ms\n",
      "651:\tlearn: 0.1477625\ttotal: 1.33s\tremaining: 713ms\n",
      "652:\tlearn: 0.1475108\ttotal: 1.34s\tremaining: 710ms\n",
      "653:\tlearn: 0.1474471\ttotal: 1.34s\tremaining: 708ms\n",
      "654:\tlearn: 0.1472226\ttotal: 1.34s\tremaining: 705ms\n",
      "655:\tlearn: 0.1470019\ttotal: 1.34s\tremaining: 702ms\n",
      "656:\tlearn: 0.1467779\ttotal: 1.34s\tremaining: 700ms\n",
      "657:\tlearn: 0.1467666\ttotal: 1.34s\tremaining: 697ms\n",
      "658:\tlearn: 0.1466394\ttotal: 1.34s\tremaining: 694ms\n",
      "659:\tlearn: 0.1463644\ttotal: 1.34s\tremaining: 691ms\n",
      "660:\tlearn: 0.1463101\ttotal: 1.34s\tremaining: 689ms\n",
      "661:\tlearn: 0.1460952\ttotal: 1.34s\tremaining: 686ms\n",
      "662:\tlearn: 0.1457271\ttotal: 1.34s\tremaining: 684ms\n",
      "663:\tlearn: 0.1455268\ttotal: 1.34s\tremaining: 681ms\n",
      "664:\tlearn: 0.1452337\ttotal: 1.35s\tremaining: 678ms\n",
      "665:\tlearn: 0.1449126\ttotal: 1.35s\tremaining: 676ms\n",
      "666:\tlearn: 0.1446704\ttotal: 1.35s\tremaining: 673ms\n",
      "667:\tlearn: 0.1445233\ttotal: 1.35s\tremaining: 671ms\n",
      "668:\tlearn: 0.1443490\ttotal: 1.35s\tremaining: 668ms\n",
      "669:\tlearn: 0.1439763\ttotal: 1.35s\tremaining: 666ms\n",
      "670:\tlearn: 0.1438104\ttotal: 1.35s\tremaining: 664ms\n",
      "671:\tlearn: 0.1435178\ttotal: 1.35s\tremaining: 661ms\n",
      "672:\tlearn: 0.1432584\ttotal: 1.35s\tremaining: 659ms\n",
      "673:\tlearn: 0.1431634\ttotal: 1.36s\tremaining: 656ms\n",
      "674:\tlearn: 0.1428683\ttotal: 1.36s\tremaining: 653ms\n",
      "675:\tlearn: 0.1427338\ttotal: 1.36s\tremaining: 651ms\n",
      "676:\tlearn: 0.1426383\ttotal: 1.36s\tremaining: 649ms\n",
      "677:\tlearn: 0.1425570\ttotal: 1.36s\tremaining: 646ms\n",
      "678:\tlearn: 0.1424411\ttotal: 1.36s\tremaining: 643ms\n",
      "679:\tlearn: 0.1422219\ttotal: 1.36s\tremaining: 641ms\n",
      "680:\tlearn: 0.1420152\ttotal: 1.36s\tremaining: 638ms\n",
      "681:\tlearn: 0.1418148\ttotal: 1.36s\tremaining: 636ms\n",
      "682:\tlearn: 0.1416786\ttotal: 1.36s\tremaining: 633ms\n",
      "683:\tlearn: 0.1415404\ttotal: 1.36s\tremaining: 631ms\n",
      "684:\tlearn: 0.1412998\ttotal: 1.36s\tremaining: 628ms\n",
      "685:\tlearn: 0.1411825\ttotal: 1.37s\tremaining: 626ms\n",
      "686:\tlearn: 0.1408987\ttotal: 1.37s\tremaining: 623ms\n",
      "687:\tlearn: 0.1407677\ttotal: 1.37s\tremaining: 621ms\n",
      "688:\tlearn: 0.1404458\ttotal: 1.37s\tremaining: 618ms\n",
      "689:\tlearn: 0.1403367\ttotal: 1.37s\tremaining: 616ms\n",
      "690:\tlearn: 0.1402394\ttotal: 1.37s\tremaining: 613ms\n",
      "691:\tlearn: 0.1399925\ttotal: 1.37s\tremaining: 611ms\n",
      "692:\tlearn: 0.1398326\ttotal: 1.37s\tremaining: 608ms\n",
      "693:\tlearn: 0.1396648\ttotal: 1.37s\tremaining: 606ms\n",
      "694:\tlearn: 0.1394345\ttotal: 1.37s\tremaining: 603ms\n",
      "695:\tlearn: 0.1392113\ttotal: 1.38s\tremaining: 601ms\n",
      "696:\tlearn: 0.1390360\ttotal: 1.38s\tremaining: 598ms\n",
      "697:\tlearn: 0.1388117\ttotal: 1.38s\tremaining: 596ms\n",
      "698:\tlearn: 0.1386911\ttotal: 1.38s\tremaining: 593ms\n",
      "699:\tlearn: 0.1384214\ttotal: 1.38s\tremaining: 591ms\n",
      "700:\tlearn: 0.1382030\ttotal: 1.38s\tremaining: 588ms\n",
      "701:\tlearn: 0.1380133\ttotal: 1.38s\tremaining: 586ms\n",
      "702:\tlearn: 0.1378743\ttotal: 1.38s\tremaining: 584ms\n",
      "703:\tlearn: 0.1376854\ttotal: 1.38s\tremaining: 581ms\n",
      "704:\tlearn: 0.1375895\ttotal: 1.38s\tremaining: 579ms\n",
      "705:\tlearn: 0.1374367\ttotal: 1.38s\tremaining: 576ms\n",
      "706:\tlearn: 0.1371696\ttotal: 1.38s\tremaining: 574ms\n",
      "707:\tlearn: 0.1370267\ttotal: 1.39s\tremaining: 571ms\n",
      "708:\tlearn: 0.1368329\ttotal: 1.39s\tremaining: 569ms\n",
      "709:\tlearn: 0.1366550\ttotal: 1.39s\tremaining: 567ms\n",
      "710:\tlearn: 0.1364645\ttotal: 1.39s\tremaining: 564ms\n",
      "711:\tlearn: 0.1363226\ttotal: 1.39s\tremaining: 562ms\n",
      "712:\tlearn: 0.1360534\ttotal: 1.39s\tremaining: 560ms\n",
      "713:\tlearn: 0.1358665\ttotal: 1.39s\tremaining: 557ms\n",
      "714:\tlearn: 0.1356462\ttotal: 1.39s\tremaining: 555ms\n",
      "715:\tlearn: 0.1354316\ttotal: 1.39s\tremaining: 552ms\n",
      "716:\tlearn: 0.1352874\ttotal: 1.39s\tremaining: 550ms\n",
      "717:\tlearn: 0.1352063\ttotal: 1.39s\tremaining: 548ms\n",
      "718:\tlearn: 0.1351612\ttotal: 1.39s\tremaining: 545ms\n",
      "719:\tlearn: 0.1350763\ttotal: 1.4s\tremaining: 543ms\n",
      "720:\tlearn: 0.1347976\ttotal: 1.4s\tremaining: 540ms\n",
      "721:\tlearn: 0.1345137\ttotal: 1.4s\tremaining: 538ms\n",
      "722:\tlearn: 0.1342390\ttotal: 1.4s\tremaining: 536ms\n",
      "723:\tlearn: 0.1339875\ttotal: 1.4s\tremaining: 534ms\n",
      "724:\tlearn: 0.1338543\ttotal: 1.4s\tremaining: 531ms\n",
      "725:\tlearn: 0.1337412\ttotal: 1.4s\tremaining: 529ms\n",
      "726:\tlearn: 0.1336385\ttotal: 1.4s\tremaining: 527ms\n",
      "727:\tlearn: 0.1334323\ttotal: 1.4s\tremaining: 524ms\n",
      "728:\tlearn: 0.1332015\ttotal: 1.4s\tremaining: 522ms\n",
      "729:\tlearn: 0.1331195\ttotal: 1.4s\tremaining: 520ms\n",
      "730:\tlearn: 0.1329296\ttotal: 1.41s\tremaining: 517ms\n",
      "731:\tlearn: 0.1327543\ttotal: 1.41s\tremaining: 515ms\n",
      "732:\tlearn: 0.1327144\ttotal: 1.41s\tremaining: 513ms\n",
      "733:\tlearn: 0.1324361\ttotal: 1.41s\tremaining: 510ms\n",
      "734:\tlearn: 0.1322813\ttotal: 1.41s\tremaining: 508ms\n",
      "735:\tlearn: 0.1322306\ttotal: 1.41s\tremaining: 506ms\n",
      "736:\tlearn: 0.1320079\ttotal: 1.41s\tremaining: 504ms\n",
      "737:\tlearn: 0.1317210\ttotal: 1.41s\tremaining: 501ms\n",
      "738:\tlearn: 0.1315388\ttotal: 1.41s\tremaining: 499ms\n",
      "739:\tlearn: 0.1314154\ttotal: 1.41s\tremaining: 497ms\n",
      "740:\tlearn: 0.1311902\ttotal: 1.41s\tremaining: 494ms\n",
      "741:\tlearn: 0.1310207\ttotal: 1.42s\tremaining: 492ms\n",
      "742:\tlearn: 0.1308433\ttotal: 1.42s\tremaining: 490ms\n",
      "743:\tlearn: 0.1306763\ttotal: 1.42s\tremaining: 488ms\n",
      "744:\tlearn: 0.1304674\ttotal: 1.42s\tremaining: 485ms\n",
      "745:\tlearn: 0.1303416\ttotal: 1.42s\tremaining: 483ms\n",
      "746:\tlearn: 0.1301885\ttotal: 1.42s\tremaining: 481ms\n",
      "747:\tlearn: 0.1300281\ttotal: 1.42s\tremaining: 479ms\n",
      "748:\tlearn: 0.1298547\ttotal: 1.42s\tremaining: 476ms\n",
      "749:\tlearn: 0.1296898\ttotal: 1.42s\tremaining: 474ms\n",
      "750:\tlearn: 0.1295489\ttotal: 1.42s\tremaining: 472ms\n"
     ]
    },
    {
     "name": "stdout",
     "output_type": "stream",
     "text": [
      "751:\tlearn: 0.1293586\ttotal: 1.43s\tremaining: 470ms\n",
      "752:\tlearn: 0.1291853\ttotal: 1.43s\tremaining: 469ms\n",
      "753:\tlearn: 0.1291007\ttotal: 1.43s\tremaining: 467ms\n",
      "754:\tlearn: 0.1288837\ttotal: 1.43s\tremaining: 465ms\n",
      "755:\tlearn: 0.1287391\ttotal: 1.44s\tremaining: 463ms\n",
      "756:\tlearn: 0.1286466\ttotal: 1.44s\tremaining: 462ms\n",
      "757:\tlearn: 0.1284902\ttotal: 1.44s\tremaining: 460ms\n",
      "758:\tlearn: 0.1283598\ttotal: 1.44s\tremaining: 458ms\n",
      "759:\tlearn: 0.1282114\ttotal: 1.44s\tremaining: 455ms\n",
      "760:\tlearn: 0.1281096\ttotal: 1.44s\tremaining: 453ms\n",
      "761:\tlearn: 0.1280299\ttotal: 1.44s\tremaining: 451ms\n",
      "762:\tlearn: 0.1278263\ttotal: 1.45s\tremaining: 449ms\n",
      "763:\tlearn: 0.1276700\ttotal: 1.45s\tremaining: 447ms\n",
      "764:\tlearn: 0.1275633\ttotal: 1.45s\tremaining: 445ms\n",
      "765:\tlearn: 0.1274498\ttotal: 1.45s\tremaining: 443ms\n",
      "766:\tlearn: 0.1273250\ttotal: 1.45s\tremaining: 441ms\n",
      "767:\tlearn: 0.1270974\ttotal: 1.45s\tremaining: 438ms\n",
      "768:\tlearn: 0.1269192\ttotal: 1.45s\tremaining: 436ms\n",
      "769:\tlearn: 0.1267701\ttotal: 1.45s\tremaining: 434ms\n",
      "770:\tlearn: 0.1266371\ttotal: 1.45s\tremaining: 432ms\n",
      "771:\tlearn: 0.1265731\ttotal: 1.45s\tremaining: 430ms\n",
      "772:\tlearn: 0.1263207\ttotal: 1.46s\tremaining: 427ms\n",
      "773:\tlearn: 0.1262651\ttotal: 1.46s\tremaining: 425ms\n",
      "774:\tlearn: 0.1261166\ttotal: 1.46s\tremaining: 423ms\n",
      "775:\tlearn: 0.1259987\ttotal: 1.46s\tremaining: 421ms\n",
      "776:\tlearn: 0.1258525\ttotal: 1.46s\tremaining: 419ms\n",
      "777:\tlearn: 0.1256915\ttotal: 1.46s\tremaining: 417ms\n",
      "778:\tlearn: 0.1255256\ttotal: 1.46s\tremaining: 415ms\n",
      "779:\tlearn: 0.1254624\ttotal: 1.46s\tremaining: 412ms\n",
      "780:\tlearn: 0.1253150\ttotal: 1.46s\tremaining: 411ms\n",
      "781:\tlearn: 0.1252301\ttotal: 1.47s\tremaining: 409ms\n",
      "782:\tlearn: 0.1251809\ttotal: 1.47s\tremaining: 407ms\n",
      "783:\tlearn: 0.1249731\ttotal: 1.47s\tremaining: 405ms\n",
      "784:\tlearn: 0.1248004\ttotal: 1.47s\tremaining: 403ms\n",
      "785:\tlearn: 0.1246885\ttotal: 1.47s\tremaining: 401ms\n",
      "786:\tlearn: 0.1245374\ttotal: 1.48s\tremaining: 399ms\n",
      "787:\tlearn: 0.1242953\ttotal: 1.48s\tremaining: 397ms\n",
      "788:\tlearn: 0.1241668\ttotal: 1.48s\tremaining: 395ms\n",
      "789:\tlearn: 0.1239540\ttotal: 1.48s\tremaining: 393ms\n",
      "790:\tlearn: 0.1238657\ttotal: 1.48s\tremaining: 391ms\n",
      "791:\tlearn: 0.1237479\ttotal: 1.48s\tremaining: 389ms\n",
      "792:\tlearn: 0.1236187\ttotal: 1.48s\tremaining: 387ms\n",
      "793:\tlearn: 0.1233774\ttotal: 1.49s\tremaining: 386ms\n",
      "794:\tlearn: 0.1232811\ttotal: 1.49s\tremaining: 384ms\n",
      "795:\tlearn: 0.1230437\ttotal: 1.49s\tremaining: 382ms\n",
      "796:\tlearn: 0.1228393\ttotal: 1.49s\tremaining: 380ms\n",
      "797:\tlearn: 0.1227110\ttotal: 1.49s\tremaining: 378ms\n",
      "798:\tlearn: 0.1226405\ttotal: 1.5s\tremaining: 376ms\n",
      "799:\tlearn: 0.1224679\ttotal: 1.5s\tremaining: 374ms\n",
      "800:\tlearn: 0.1222449\ttotal: 1.5s\tremaining: 372ms\n",
      "801:\tlearn: 0.1220711\ttotal: 1.5s\tremaining: 371ms\n",
      "802:\tlearn: 0.1219485\ttotal: 1.5s\tremaining: 369ms\n",
      "803:\tlearn: 0.1217793\ttotal: 1.51s\tremaining: 367ms\n",
      "804:\tlearn: 0.1215941\ttotal: 1.51s\tremaining: 365ms\n",
      "805:\tlearn: 0.1214115\ttotal: 1.51s\tremaining: 363ms\n",
      "806:\tlearn: 0.1212441\ttotal: 1.51s\tremaining: 361ms\n",
      "807:\tlearn: 0.1210446\ttotal: 1.51s\tremaining: 359ms\n",
      "808:\tlearn: 0.1209201\ttotal: 1.51s\tremaining: 358ms\n",
      "809:\tlearn: 0.1207630\ttotal: 1.52s\tremaining: 356ms\n",
      "810:\tlearn: 0.1205675\ttotal: 1.52s\tremaining: 355ms\n",
      "811:\tlearn: 0.1203824\ttotal: 1.52s\tremaining: 353ms\n",
      "812:\tlearn: 0.1202452\ttotal: 1.53s\tremaining: 351ms\n",
      "813:\tlearn: 0.1200677\ttotal: 1.53s\tremaining: 349ms\n",
      "814:\tlearn: 0.1200260\ttotal: 1.53s\tremaining: 348ms\n",
      "815:\tlearn: 0.1198836\ttotal: 1.54s\tremaining: 346ms\n",
      "816:\tlearn: 0.1197126\ttotal: 1.54s\tremaining: 344ms\n",
      "817:\tlearn: 0.1195502\ttotal: 1.54s\tremaining: 343ms\n",
      "818:\tlearn: 0.1194689\ttotal: 1.54s\tremaining: 341ms\n",
      "819:\tlearn: 0.1193747\ttotal: 1.54s\tremaining: 339ms\n",
      "820:\tlearn: 0.1192612\ttotal: 1.54s\tremaining: 337ms\n",
      "821:\tlearn: 0.1191534\ttotal: 1.54s\tremaining: 335ms\n",
      "822:\tlearn: 0.1189742\ttotal: 1.55s\tremaining: 333ms\n",
      "823:\tlearn: 0.1188393\ttotal: 1.55s\tremaining: 331ms\n",
      "824:\tlearn: 0.1186908\ttotal: 1.56s\tremaining: 330ms\n",
      "825:\tlearn: 0.1185061\ttotal: 1.56s\tremaining: 328ms\n",
      "826:\tlearn: 0.1184118\ttotal: 1.56s\tremaining: 327ms\n",
      "827:\tlearn: 0.1181873\ttotal: 1.56s\tremaining: 324ms\n",
      "828:\tlearn: 0.1180592\ttotal: 1.56s\tremaining: 322ms\n",
      "829:\tlearn: 0.1178860\ttotal: 1.57s\tremaining: 321ms\n",
      "830:\tlearn: 0.1176773\ttotal: 1.57s\tremaining: 319ms\n",
      "831:\tlearn: 0.1174517\ttotal: 1.57s\tremaining: 317ms\n",
      "832:\tlearn: 0.1172510\ttotal: 1.57s\tremaining: 315ms\n",
      "833:\tlearn: 0.1171218\ttotal: 1.57s\tremaining: 313ms\n",
      "834:\tlearn: 0.1170255\ttotal: 1.58s\tremaining: 311ms\n",
      "835:\tlearn: 0.1168631\ttotal: 1.58s\tremaining: 309ms\n",
      "836:\tlearn: 0.1167377\ttotal: 1.59s\tremaining: 309ms\n",
      "837:\tlearn: 0.1165644\ttotal: 1.59s\tremaining: 308ms\n",
      "838:\tlearn: 0.1163649\ttotal: 1.6s\tremaining: 307ms\n",
      "839:\tlearn: 0.1162021\ttotal: 1.6s\tremaining: 305ms\n",
      "840:\tlearn: 0.1159825\ttotal: 1.6s\tremaining: 303ms\n",
      "841:\tlearn: 0.1158715\ttotal: 1.6s\tremaining: 301ms\n",
      "842:\tlearn: 0.1157819\ttotal: 1.61s\tremaining: 299ms\n",
      "843:\tlearn: 0.1156112\ttotal: 1.61s\tremaining: 297ms\n",
      "844:\tlearn: 0.1154752\ttotal: 1.61s\tremaining: 296ms\n",
      "845:\tlearn: 0.1153925\ttotal: 1.61s\tremaining: 294ms\n",
      "846:\tlearn: 0.1153040\ttotal: 1.61s\tremaining: 292ms\n",
      "847:\tlearn: 0.1151222\ttotal: 1.61s\tremaining: 290ms\n",
      "848:\tlearn: 0.1150275\ttotal: 1.62s\tremaining: 288ms\n",
      "849:\tlearn: 0.1149124\ttotal: 1.62s\tremaining: 286ms\n",
      "850:\tlearn: 0.1147123\ttotal: 1.63s\tremaining: 285ms\n",
      "851:\tlearn: 0.1145181\ttotal: 1.63s\tremaining: 283ms\n",
      "852:\tlearn: 0.1143469\ttotal: 1.63s\tremaining: 281ms\n",
      "853:\tlearn: 0.1142170\ttotal: 1.63s\tremaining: 279ms\n",
      "854:\tlearn: 0.1140693\ttotal: 1.63s\tremaining: 277ms\n",
      "855:\tlearn: 0.1139477\ttotal: 1.64s\tremaining: 276ms\n",
      "856:\tlearn: 0.1138160\ttotal: 1.64s\tremaining: 274ms\n",
      "857:\tlearn: 0.1137486\ttotal: 1.64s\tremaining: 272ms\n",
      "858:\tlearn: 0.1135657\ttotal: 1.65s\tremaining: 270ms\n",
      "859:\tlearn: 0.1134608\ttotal: 1.65s\tremaining: 268ms\n",
      "860:\tlearn: 0.1132869\ttotal: 1.65s\tremaining: 267ms\n",
      "861:\tlearn: 0.1131469\ttotal: 1.65s\tremaining: 264ms\n",
      "862:\tlearn: 0.1130170\ttotal: 1.65s\tremaining: 262ms\n",
      "863:\tlearn: 0.1128573\ttotal: 1.66s\tremaining: 261ms\n",
      "864:\tlearn: 0.1127323\ttotal: 1.66s\tremaining: 259ms\n",
      "865:\tlearn: 0.1125914\ttotal: 1.66s\tremaining: 257ms\n",
      "866:\tlearn: 0.1124643\ttotal: 1.66s\tremaining: 255ms\n",
      "867:\tlearn: 0.1122941\ttotal: 1.66s\tremaining: 253ms\n",
      "868:\tlearn: 0.1121447\ttotal: 1.66s\tremaining: 251ms\n",
      "869:\tlearn: 0.1120020\ttotal: 1.67s\tremaining: 249ms\n",
      "870:\tlearn: 0.1118729\ttotal: 1.67s\tremaining: 247ms\n",
      "871:\tlearn: 0.1117580\ttotal: 1.67s\tremaining: 245ms\n",
      "872:\tlearn: 0.1116310\ttotal: 1.67s\tremaining: 243ms\n",
      "873:\tlearn: 0.1116249\ttotal: 1.67s\tremaining: 241ms\n",
      "874:\tlearn: 0.1114924\ttotal: 1.68s\tremaining: 240ms\n",
      "875:\tlearn: 0.1113377\ttotal: 1.68s\tremaining: 237ms\n",
      "876:\tlearn: 0.1111650\ttotal: 1.68s\tremaining: 235ms\n",
      "877:\tlearn: 0.1109447\ttotal: 1.68s\tremaining: 233ms\n",
      "878:\tlearn: 0.1107900\ttotal: 1.68s\tremaining: 231ms\n",
      "879:\tlearn: 0.1106134\ttotal: 1.68s\tremaining: 229ms\n",
      "880:\tlearn: 0.1104934\ttotal: 1.68s\tremaining: 227ms\n",
      "881:\tlearn: 0.1103637\ttotal: 1.69s\tremaining: 225ms\n",
      "882:\tlearn: 0.1101854\ttotal: 1.69s\tremaining: 223ms\n",
      "883:\tlearn: 0.1101358\ttotal: 1.69s\tremaining: 222ms\n",
      "884:\tlearn: 0.1100447\ttotal: 1.69s\tremaining: 220ms\n",
      "885:\tlearn: 0.1098509\ttotal: 1.69s\tremaining: 218ms\n",
      "886:\tlearn: 0.1097582\ttotal: 1.69s\tremaining: 216ms\n",
      "887:\tlearn: 0.1095742\ttotal: 1.69s\tremaining: 214ms\n",
      "888:\tlearn: 0.1094075\ttotal: 1.69s\tremaining: 212ms\n",
      "889:\tlearn: 0.1091873\ttotal: 1.7s\tremaining: 210ms\n",
      "890:\tlearn: 0.1091539\ttotal: 1.7s\tremaining: 208ms\n",
      "891:\tlearn: 0.1090234\ttotal: 1.7s\tremaining: 206ms\n",
      "892:\tlearn: 0.1089297\ttotal: 1.7s\tremaining: 204ms\n",
      "893:\tlearn: 0.1088052\ttotal: 1.7s\tremaining: 202ms\n",
      "894:\tlearn: 0.1087312\ttotal: 1.7s\tremaining: 199ms\n",
      "895:\tlearn: 0.1086356\ttotal: 1.7s\tremaining: 197ms\n",
      "896:\tlearn: 0.1085636\ttotal: 1.7s\tremaining: 195ms\n",
      "897:\tlearn: 0.1083590\ttotal: 1.7s\tremaining: 193ms\n",
      "898:\tlearn: 0.1082018\ttotal: 1.7s\tremaining: 191ms\n",
      "899:\tlearn: 0.1081495\ttotal: 1.71s\tremaining: 189ms\n",
      "900:\tlearn: 0.1080573\ttotal: 1.71s\tremaining: 188ms\n",
      "901:\tlearn: 0.1079670\ttotal: 1.71s\tremaining: 186ms\n",
      "902:\tlearn: 0.1078908\ttotal: 1.71s\tremaining: 184ms\n",
      "903:\tlearn: 0.1077932\ttotal: 1.71s\tremaining: 182ms\n",
      "904:\tlearn: 0.1075664\ttotal: 1.71s\tremaining: 180ms\n",
      "905:\tlearn: 0.1074088\ttotal: 1.71s\tremaining: 178ms\n",
      "906:\tlearn: 0.1072630\ttotal: 1.71s\tremaining: 176ms\n",
      "907:\tlearn: 0.1071244\ttotal: 1.71s\tremaining: 174ms\n",
      "908:\tlearn: 0.1069859\ttotal: 1.72s\tremaining: 172ms\n",
      "909:\tlearn: 0.1068873\ttotal: 1.72s\tremaining: 170ms\n",
      "910:\tlearn: 0.1068224\ttotal: 1.72s\tremaining: 168ms\n",
      "911:\tlearn: 0.1067199\ttotal: 1.72s\tremaining: 166ms\n",
      "912:\tlearn: 0.1066039\ttotal: 1.72s\tremaining: 164ms\n",
      "913:\tlearn: 0.1065289\ttotal: 1.72s\tremaining: 162ms\n",
      "914:\tlearn: 0.1063722\ttotal: 1.72s\tremaining: 160ms\n",
      "915:\tlearn: 0.1062467\ttotal: 1.72s\tremaining: 158ms\n",
      "916:\tlearn: 0.1061304\ttotal: 1.72s\tremaining: 156ms\n",
      "917:\tlearn: 0.1060200\ttotal: 1.72s\tremaining: 154ms\n",
      "918:\tlearn: 0.1058334\ttotal: 1.72s\tremaining: 152ms\n",
      "919:\tlearn: 0.1057232\ttotal: 1.73s\tremaining: 150ms\n",
      "920:\tlearn: 0.1055816\ttotal: 1.73s\tremaining: 148ms\n",
      "921:\tlearn: 0.1054508\ttotal: 1.73s\tremaining: 146ms\n",
      "922:\tlearn: 0.1052732\ttotal: 1.73s\tremaining: 144ms\n",
      "923:\tlearn: 0.1052265\ttotal: 1.73s\tremaining: 142ms\n",
      "924:\tlearn: 0.1051411\ttotal: 1.73s\tremaining: 140ms\n",
      "925:\tlearn: 0.1051142\ttotal: 1.73s\tremaining: 138ms\n",
      "926:\tlearn: 0.1050113\ttotal: 1.73s\tremaining: 136ms\n",
      "927:\tlearn: 0.1048604\ttotal: 1.73s\tremaining: 134ms\n",
      "928:\tlearn: 0.1047705\ttotal: 1.73s\tremaining: 132ms\n",
      "929:\tlearn: 0.1046837\ttotal: 1.73s\tremaining: 131ms\n",
      "930:\tlearn: 0.1045307\ttotal: 1.74s\tremaining: 129ms\n",
      "931:\tlearn: 0.1044029\ttotal: 1.74s\tremaining: 127ms\n",
      "932:\tlearn: 0.1042569\ttotal: 1.74s\tremaining: 125ms\n",
      "933:\tlearn: 0.1041493\ttotal: 1.74s\tremaining: 123ms\n",
      "934:\tlearn: 0.1040784\ttotal: 1.74s\tremaining: 121ms\n",
      "935:\tlearn: 0.1039448\ttotal: 1.74s\tremaining: 119ms\n",
      "936:\tlearn: 0.1037697\ttotal: 1.74s\tremaining: 117ms\n",
      "937:\tlearn: 0.1036571\ttotal: 1.74s\tremaining: 115ms\n",
      "938:\tlearn: 0.1035733\ttotal: 1.74s\tremaining: 113ms\n",
      "939:\tlearn: 0.1034956\ttotal: 1.74s\tremaining: 111ms\n",
      "940:\tlearn: 0.1033965\ttotal: 1.74s\tremaining: 109ms\n",
      "941:\tlearn: 0.1032801\ttotal: 1.74s\tremaining: 107ms\n",
      "942:\tlearn: 0.1030555\ttotal: 1.75s\tremaining: 106ms\n",
      "943:\tlearn: 0.1029640\ttotal: 1.75s\tremaining: 104ms\n",
      "944:\tlearn: 0.1028356\ttotal: 1.75s\tremaining: 102ms\n",
      "945:\tlearn: 0.1027303\ttotal: 1.75s\tremaining: 99.8ms\n",
      "946:\tlearn: 0.1026813\ttotal: 1.75s\tremaining: 97.9ms\n",
      "947:\tlearn: 0.1025018\ttotal: 1.75s\tremaining: 96ms\n",
      "948:\tlearn: 0.1023439\ttotal: 1.75s\tremaining: 94.1ms\n",
      "949:\tlearn: 0.1022283\ttotal: 1.75s\tremaining: 92.2ms\n",
      "950:\tlearn: 0.1021315\ttotal: 1.75s\tremaining: 90.3ms\n",
      "951:\tlearn: 0.1020322\ttotal: 1.75s\tremaining: 88.5ms\n",
      "952:\tlearn: 0.1019481\ttotal: 1.75s\tremaining: 86.6ms\n",
      "953:\tlearn: 0.1018196\ttotal: 1.76s\tremaining: 84.7ms\n",
      "954:\tlearn: 0.1017008\ttotal: 1.76s\tremaining: 82.8ms\n",
      "955:\tlearn: 0.1016016\ttotal: 1.76s\tremaining: 80.9ms\n",
      "956:\tlearn: 0.1014438\ttotal: 1.76s\tremaining: 79ms\n",
      "957:\tlearn: 0.1012799\ttotal: 1.76s\tremaining: 77.2ms\n",
      "958:\tlearn: 0.1011902\ttotal: 1.76s\tremaining: 75.3ms\n",
      "959:\tlearn: 0.1010591\ttotal: 1.76s\tremaining: 73.4ms\n",
      "960:\tlearn: 0.1009585\ttotal: 1.76s\tremaining: 71.6ms\n",
      "961:\tlearn: 0.1007914\ttotal: 1.76s\tremaining: 69.7ms\n",
      "962:\tlearn: 0.1007230\ttotal: 1.76s\tremaining: 67.8ms\n",
      "963:\tlearn: 0.1006471\ttotal: 1.77s\tremaining: 66ms\n",
      "964:\tlearn: 0.1004222\ttotal: 1.77s\tremaining: 64.1ms\n",
      "965:\tlearn: 0.1003215\ttotal: 1.77s\tremaining: 62.2ms\n",
      "966:\tlearn: 0.1002297\ttotal: 1.77s\tremaining: 60.4ms\n",
      "967:\tlearn: 0.1001253\ttotal: 1.77s\tremaining: 58.5ms\n",
      "968:\tlearn: 0.0999698\ttotal: 1.77s\tremaining: 56.7ms\n",
      "969:\tlearn: 0.0998661\ttotal: 1.77s\tremaining: 54.8ms\n",
      "970:\tlearn: 0.0998026\ttotal: 1.77s\tremaining: 53ms\n",
      "971:\tlearn: 0.0997159\ttotal: 1.77s\tremaining: 51.2ms\n",
      "972:\tlearn: 0.0996210\ttotal: 1.78s\tremaining: 49.3ms\n",
      "973:\tlearn: 0.0994865\ttotal: 1.78s\tremaining: 47.5ms\n",
      "974:\tlearn: 0.0993806\ttotal: 1.78s\tremaining: 45.6ms\n",
      "975:\tlearn: 0.0992461\ttotal: 1.78s\tremaining: 43.8ms\n",
      "976:\tlearn: 0.0992051\ttotal: 1.78s\tremaining: 41.9ms\n",
      "977:\tlearn: 0.0990752\ttotal: 1.78s\tremaining: 40.1ms\n",
      "978:\tlearn: 0.0989929\ttotal: 1.78s\tremaining: 38.3ms\n",
      "979:\tlearn: 0.0988652\ttotal: 1.78s\tremaining: 36.4ms\n",
      "980:\tlearn: 0.0987855\ttotal: 1.78s\tremaining: 34.6ms\n",
      "981:\tlearn: 0.0986499\ttotal: 1.78s\tremaining: 32.7ms\n",
      "982:\tlearn: 0.0985124\ttotal: 1.79s\tremaining: 30.9ms\n",
      "983:\tlearn: 0.0983485\ttotal: 1.79s\tremaining: 29.1ms\n",
      "984:\tlearn: 0.0982289\ttotal: 1.79s\tremaining: 27.2ms\n",
      "985:\tlearn: 0.0980952\ttotal: 1.79s\tremaining: 25.4ms\n",
      "986:\tlearn: 0.0979258\ttotal: 1.79s\tremaining: 23.6ms\n",
      "987:\tlearn: 0.0978354\ttotal: 1.79s\tremaining: 21.8ms\n"
     ]
    },
    {
     "name": "stdout",
     "output_type": "stream",
     "text": [
      "988:\tlearn: 0.0977802\ttotal: 1.79s\tremaining: 19.9ms\n",
      "989:\tlearn: 0.0976457\ttotal: 1.79s\tremaining: 18.1ms\n",
      "990:\tlearn: 0.0975059\ttotal: 1.8s\tremaining: 16.3ms\n",
      "991:\tlearn: 0.0973035\ttotal: 1.8s\tremaining: 14.5ms\n",
      "992:\tlearn: 0.0971950\ttotal: 1.8s\tremaining: 12.7ms\n",
      "993:\tlearn: 0.0971090\ttotal: 1.8s\tremaining: 10.9ms\n",
      "994:\tlearn: 0.0970555\ttotal: 1.8s\tremaining: 9.05ms\n",
      "995:\tlearn: 0.0969381\ttotal: 1.8s\tremaining: 7.24ms\n",
      "996:\tlearn: 0.0968044\ttotal: 1.8s\tremaining: 5.43ms\n",
      "997:\tlearn: 0.0967716\ttotal: 1.8s\tremaining: 3.62ms\n",
      "998:\tlearn: 0.0965993\ttotal: 1.81s\tremaining: 1.81ms\n",
      "999:\tlearn: 0.0964891\ttotal: 1.81s\tremaining: 0us\n",
      "CPU times: user 2.28 s, sys: 283 ms, total: 2.57 s\n",
      "Wall time: 3.71 s\n",
      "confussion matrix\n",
      "[[23  7]\n",
      " [ 3 28]]\n",
      "\n",
      "\n",
      "Accuracy of Support Vector Classifier: 83.60655737704919 \n",
      "\n",
      "              precision    recall  f1-score   support\n",
      "\n",
      "           0       0.88      0.77      0.82        30\n",
      "           1       0.80      0.90      0.85        31\n",
      "\n",
      "    accuracy                           0.84        61\n",
      "   macro avg       0.84      0.83      0.83        61\n",
      "weighted avg       0.84      0.84      0.84        61\n",
      "\n"
     ]
    }
   ],
   "source": [
    "m8 = 'CatBoost'\n",
    "cbc =  CatBoostClassifier()\n",
    "%time cbc.fit(X_train, y_train)\n",
    "cbc_predicted = cbc.predict(X_test)\n",
    "cbc_conf_matrix = confusion_matrix(y_test, cbc_predicted)\n",
    "cbc_acc_score = accuracy_score(y_test, cbc_predicted)\n",
    "print(\"confussion matrix\")\n",
    "print(cbc_conf_matrix)\n",
    "print(\"\\n\")\n",
    "print(\"Accuracy of Support Vector Classifier:\",cbc_acc_score*100,'\\n')\n",
    "print(classification_report(y_test,cbc_predicted))"
   ]
  },
  {
   "cell_type": "markdown",
   "metadata": {},
   "source": [
    "## Интерпретация результата <a name=\"result\"></a>"
   ]
  },
  {
   "cell_type": "code",
   "execution_count": 48,
   "metadata": {},
   "outputs": [
    {
     "data": {
      "image/png": "[encoded data removed]",
      "text/plain": [
       "<Figure size 720x288 with 1 Axes>"
      ]
     },
     "metadata": {
      "needs_background": "light"
     },
     "output_type": "display_data"
    }
   ],
   "source": [
    "# Посмотрим на важность фич для xgb\n",
    "imp_feature = pd.DataFrame({'Feature': ['age', 'sex', 'cp', 'trestbps', 'chol', 'fbs', 'restecg', 'thalach',\n",
    "       'exang', 'oldpeak', 'slope', 'ca', 'thal'], 'Importance': xgb.feature_importances_})\n",
    "plt.figure(figsize=(10,4))\n",
    "plt.title(\"barplot Represent feature importance \")\n",
    "plt.xlabel(\"importance \")\n",
    "plt.ylabel(\"features\")\n",
    "plt.barh(imp_feature['Feature'],imp_feature['Importance'],color = 'rgbkymc')\n",
    "plt.show()"
   ]
  },
  {
   "cell_type": "code",
   "execution_count": 49,
   "metadata": {
    "scrolled": true
   },
   "outputs": [
    {
     "data": {
      "text/html": [
       "<div>\n",
       "<style scoped>\n",
       "    .dataframe tbody tr th:only-of-type {\n",
       "        vertical-align: middle;\n",
       "    }\n",
       "\n",
       "    .dataframe tbody tr th {\n",
       "        vertical-align: top;\n",
       "    }\n",
       "\n",
       "    .dataframe thead th {\n",
       "        text-align: right;\n",
       "    }\n",
       "</style>\n",
       "<table border=\"1\" class=\"dataframe\">\n",
       "  <thead>\n",
       "    <tr style=\"text-align: right;\">\n",
       "      <th></th>\n",
       "      <th>Accuracy</th>\n",
       "      <th>Model</th>\n",
       "    </tr>\n",
       "  </thead>\n",
       "  <tbody>\n",
       "    <tr>\n",
       "      <th>4</th>\n",
       "      <td>88.524590</td>\n",
       "      <td>K-Nearest Neighbour</td>\n",
       "    </tr>\n",
       "    <tr>\n",
       "      <th>1</th>\n",
       "      <td>85.245902</td>\n",
       "      <td>Naive Bayes</td>\n",
       "    </tr>\n",
       "    <tr>\n",
       "      <th>2</th>\n",
       "      <td>85.245902</td>\n",
       "      <td>Random Forest</td>\n",
       "    </tr>\n",
       "    <tr>\n",
       "      <th>0</th>\n",
       "      <td>83.606557</td>\n",
       "      <td>Logistic Regression</td>\n",
       "    </tr>\n",
       "    <tr>\n",
       "      <th>3</th>\n",
       "      <td>83.606557</td>\n",
       "      <td>Extreme Gradient Boost</td>\n",
       "    </tr>\n",
       "    <tr>\n",
       "      <th>7</th>\n",
       "      <td>83.606557</td>\n",
       "      <td>CatBoost</td>\n",
       "    </tr>\n",
       "    <tr>\n",
       "      <th>6</th>\n",
       "      <td>81.967213</td>\n",
       "      <td>Support Vector Machine</td>\n",
       "    </tr>\n",
       "    <tr>\n",
       "      <th>5</th>\n",
       "      <td>80.327869</td>\n",
       "      <td>Decision Tree</td>\n",
       "    </tr>\n",
       "  </tbody>\n",
       "</table>\n",
       "</div>"
      ],
      "text/plain": [
       "    Accuracy                   Model\n",
       "4  88.524590     K-Nearest Neighbour\n",
       "1  85.245902             Naive Bayes\n",
       "2  85.245902           Random Forest\n",
       "0  83.606557     Logistic Regression\n",
       "3  83.606557  Extreme Gradient Boost\n",
       "7  83.606557                CatBoost\n",
       "6  81.967213  Support Vector Machine\n",
       "5  80.327869           Decision Tree"
      ]
     },
     "execution_count": 49,
     "metadata": {},
     "output_type": "execute_result"
    }
   ],
   "source": [
    "model_ev = pd.DataFrame({'Model': ['Logistic Regression','Naive Bayes','Random Forest','Extreme Gradient Boost',\n",
    "                    'K-Nearest Neighbour','Decision Tree','Support Vector Machine','CatBoost'], 'Accuracy': [lr_acc_score*100,\n",
    "                    nb_acc_score*100,rf_acc_score*100,xgb_acc_score*100,knn_acc_score*100,dt_acc_score*100,svc_acc_score*100, cbc_acc_score*100]})\n",
    "model_ev.sort_values('Accuracy' , ascending=False)"
   ]
  },
  {
   "cell_type": "code",
   "execution_count": 50,
   "metadata": {
    "scrolled": false
   },
   "outputs": [
    {
     "data": {
      "image/png": "[encoded data removed]",
      "text/plain": [
       "<Figure size 1080x360 with 1 Axes>"
      ]
     },
     "metadata": {
      "needs_background": "light"
     },
     "output_type": "display_data"
    }
   ],
   "source": [
    "colors = ['red','green','blue','gold','silver','yellow','orange', 'black',]\n",
    "plt.figure(figsize=(15,5))\n",
    "plt.xlabel(\"Algorithms\")\n",
    "plt.ylabel(\"Accuracy %\")\n",
    "plt.bar(model_ev['Model'], model_ev['Accuracy'], color = colors)\n",
    "plt.show()"
   ]
  },
  {
   "cell_type": "markdown",
   "metadata": {},
   "source": [
    "### Вывод:\n",
    "Наилучшие результаты показал KNN \n",
    "Была достигнута точность в 88%\n",
    "на тестовой выборке был дан один ложноотрицательный результат и 6 ложноположительных. С учетом специфики медицины, лучше выдать ложноположительный результат при предсказании вероятных сердечных заболеваний, что и делает представленная модель на данной тестовой выборке"
   ]
  },
  {
   "cell_type": "code",
   "execution_count": 52,
   "metadata": {},
   "outputs": [
    {
     "name": "stdout",
     "output_type": "stream",
     "text": [
      "confussion matrix\n",
      "[[24  6]\n",
      " [ 1 30]]\n",
      "\n",
      "\n",
      "Accuracy of K-NeighborsClassifier: 88.52459016393442 \n",
      "\n",
      "              precision    recall  f1-score   support\n",
      "\n",
      "           0       0.96      0.80      0.87        30\n",
      "           1       0.83      0.97      0.90        31\n",
      "\n",
      "    accuracy                           0.89        61\n",
      "   macro avg       0.90      0.88      0.88        61\n",
      "weighted avg       0.90      0.89      0.88        61\n",
      "\n"
     ]
    }
   ],
   "source": [
    "print(\"confussion matrix\")\n",
    "print(knn_conf_matrix)\n",
    "print(\"\\n\")\n",
    "print(\"Accuracy of K-NeighborsClassifier:\",knn_acc_score*100,'\\n')\n",
    "print(classification_report(y_test,knn_predicted))"
   ]
  },
  {
   "cell_type": "markdown",
   "metadata": {},
   "source": [
    "## Предложения по улучшению <a name=\"improvement\"></a>\n",
    "Данные:\n",
    "* Так как датасет маленький, то можно попробовать использовать большее число фич из большого исходного датасета\n",
    "* Если есть возможность самостоятельно собирать данные, то можно расширить анкету и добавить вопрос про курение. Также можно попробовать расширить аудиторию, среди которой проводится опрос\n",
    "\n",
    "Фичаинженеринг\n",
    "* Использовать one-hot-encoding для кодирования категориальных признаков в бинарные\n",
    "* Попробовать логические операции на бинарных признаках, например умножение\n",
    "* Попробовать разбить количественные переменные в категориальные (например по гистограмме)\n",
    "\n",
    "Модели\n",
    "* Ещё покрутить параметры у моделей, можно точно добиться лучших результатов от xgb, catboost, svm\n",
    "* Сделать ансамбль (в одном из кернелов улучшили на пару процентов так результат)"
   ]
  }
 ],
 "metadata": {
  "kernelspec": {
   "display_name": "Python 3",
   "language": "python",
   "name": "python3"
  },
  "language_info": {
   "codemirror_mode": {
    "name": "ipython",
    "version": 3
   },
   "file_extension": ".py",
   "mimetype": "text/x-python",
   "name": "python",
   "nbconvert_exporter": "python",
   "pygments_lexer": "ipython3",
   "version": "3.6.8"
  }
 },
 "nbformat": 4,
 "nbformat_minor": 4
}
